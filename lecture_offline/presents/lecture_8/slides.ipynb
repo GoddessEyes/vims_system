{
 "cells": [
  {
   "cell_type": "markdown",
   "metadata": {},
   "source": [
    "# Основы баз данных\n"
   ]
  },
  {
   "cell_type": "markdown",
   "metadata": {},
   "source": [
    "\n",
    "## Основы баз данных"
   ]
  },
  {
   "cell_type": "markdown",
   "metadata": {},
   "source": [
    "\n",
    "## Немного терминологии\n",
    "Атрибут — свойство некоторой сущности. Часто называется полем таблицы.\n",
    "\n",
    "Домен атрибута — множество допустимых значений, которые может принимать атрибут."
   ]
  },
  {
   "cell_type": "markdown",
   "metadata": {},
   "source": [
    "\n",
    "## Немного терминологии\n",
    "Кортеж — конечное множество взаимосвязанных допустимых значений атрибутов, которые вместе описывают некоторую сущность (строка таблицы).\n",
    "\n",
    "Отношение — конечное множество кортежей (таблица)."
   ]
  },
  {
   "cell_type": "markdown",
   "metadata": {},
   "source": [
    "\n",
    "## Немного терминологии\n",
    "Схема отношения — конечное множество атрибутов, определяющих некоторую сущность. Иными словами, это структура таблицы, состоящей из конкретного набора полей."
   ]
  },
  {
   "cell_type": "markdown",
   "metadata": {},
   "source": [
    "\n",
    "## Немного терминологии\n",
    "Нормальная форма — требование, предъявляемое к структуре таблиц в теории реляционных баз данных для устранения из базы избыточных функциональных зависимостей между атрибутами (полями таблиц)."
   ]
  },
  {
   "cell_type": "markdown",
   "metadata": {},
   "source": [
    "\n",
    "## Немного терминологии\n",
    "Метод нормальных форм (НФ) состоит в сборе информации о объектах решения задачи в рамках одного отношения и последующей декомпозиции этого отношения на несколько взаимосвязанных отношений на основе процедур нормализации отношений."
   ]
  },
  {
   "cell_type": "markdown",
   "metadata": {},
   "source": [
    "\n",
    "## Цель нормализации\n",
    "Исключить избыточное дублирование данных, которое является причиной аномалий, возникших при добавлении, редактировании и удалении кортежей(строк таблицы)."
   ]
  },
  {
   "cell_type": "markdown",
   "metadata": {},
   "source": [
    "\n",
    "## Первая нормальная форма\n",
    "Первая нормальная форма (1НФ) - это обычное отношение. Отношение в 1НФ обладает следующими свойствами:\n",
    "\n",
    "В отношении нет одинаковых кортежей.\n",
    "Кортежи не упорядочены.\n",
    "Атрибуты не упорядочены.\n",
    "Все значения атрибутов атомарны."
   ]
  },
  {
   "cell_type": "markdown",
   "metadata": {},
   "source": [
    "\n",
    "## Первая нормальная форма\n",
    "![nf1](./images/nf1_ex1.png)"
   ]
  },
  {
   "cell_type": "markdown",
   "metadata": {},
   "source": [
    "\n",
    "## Первая нормальная форма\n",
    "![nf1](./images/nf1_ex2.png)"
   ]
  },
  {
   "cell_type": "markdown",
   "metadata": {},
   "source": [
    "\n",
    "## Вторая нормальная форма\n",
    "Отношение находится во 2НФ, если оно находится в 1НФ и каждый не ключевой атрибут зависит от выбраного ключа."
   ]
  },
  {
   "cell_type": "markdown",
   "metadata": {},
   "source": [
    "\n",
    "## Вторая нормальная форма\n",
    "![nf2](./images/nf2_ex1.png)"
   ]
  },
  {
   "cell_type": "markdown",
   "metadata": {},
   "source": [
    "\n",
    "## Вторая нормальная форма\n",
    "![nf2](./images/nf2_ex2.png)"
   ]
  },
  {
   "cell_type": "markdown",
   "metadata": {},
   "source": [
    "\n",
    "## Вторая нормальная форма\n",
    "![nf2](./images/nf2_ex3.png)"
   ]
  },
  {
   "cell_type": "markdown",
   "metadata": {},
   "source": [
    "\n",
    "## Третья нормальная форма\n",
    "Отношение находится в 3НФ, когда находится во 2НФ и и все неключевые атрибуты взаимно независимы."
   ]
  },
  {
   "cell_type": "markdown",
   "metadata": {},
   "source": [
    "\n",
    "## Третья нормальная форма\n",
    "![nf3](./images/nf3_ex1.png)"
   ]
  },
  {
   "cell_type": "markdown",
   "metadata": {},
   "source": [
    "\n",
    "## Третья нормальная форма\n",
    "\n",
    "| Магазин | Телефон |\n",
    "| ------- | ------- |\n",
    "| Риал-авто | 87-33-98 |\n",
    "| Некст-Авто | 94-54-12 |"
   ]
  },
  {
   "cell_type": "markdown",
   "metadata": {},
   "source": [
    "\n",
    "## Третья нормальная форма\n",
    "![nf3](./images/nf3_ex2.png)"
   ]
  },
  {
   "cell_type": "markdown",
   "metadata": {},
   "source": [
    "\n",
    "## Нормальная форма Бойса-Кодда (НФБК)\n",
    "Определение 3НФ не совсем подходит для следующих отношений:\n",
    "- отношение имеет две или более потенциальных ключа;\n",
    "- два и более потенциальных ключа являются составными;\n",
    "- они пересекаются, т.е. имеют хотя бы один общий атрибут."
   ]
  },
  {
   "cell_type": "markdown",
   "metadata": {},
   "source": [
    "\n",
    "## Нормальная форма Бойса-Кодда (НФБК)\n",
    "Отношение  находится в нормальной форме Бойса-Кодда (НФБК) тогда и только тогда, когда значения всех функциональных зависимостей являются потенциальными ключами."
   ]
  },
  {
   "cell_type": "markdown",
   "metadata": {},
   "source": [
    "\n",
    "## Нормальная форма Бойса-Кодда (НФБК)\n",
    "Предположим, рассматривается отношение, представляющее данные о бронировании стоянки на день"
   ]
  },
  {
   "cell_type": "markdown",
   "metadata": {},
   "source": [
    "\n",
    "## Нормальная форма Бойса-Кодда (НФБК)\n",
    "![nf3D](./images/nf3D_ex1.png)"
   ]
  },
  {
   "cell_type": "markdown",
   "metadata": {},
   "source": [
    "\n",
    "## Нормальная форма Бойса-Кодда (НФБК)\n",
    "![nf3D](./images/nf3D_ex2.png)"
   ]
  },
  {
   "cell_type": "markdown",
   "metadata": {},
   "source": [
    "\n",
    "## Нормальная форма Бойса-Кодда (НФБК)\n",
    "![nf3D](./images/nf3D_ex3.png)"
   ]
  },
  {
   "cell_type": "markdown",
   "metadata": {},
   "source": [
    "\n",
    "## Четвертая нормальная форма\n",
    "Отношение находится в 4НФ, если оно находится в НФБК и все нетривиальные многозначные зависимости фактически являются функциональными зависимостями от ее потенциальных ключей."
   ]
  },
  {
   "cell_type": "markdown",
   "metadata": {},
   "source": [
    "\n",
    "## Четвертая нормальная форма\n",
    "Предположим, что рестораны производят разные виды пиццы, а службы доставки ресторанов работают только в определенных районах города."
   ]
  },
  {
   "cell_type": "markdown",
   "metadata": {},
   "source": [
    "\n",
    "## Четвертая нормальная форма\n",
    "Такая переменная отношения не соответствует 4НФ, так как существует следующая многозначная зависимость:\n",
    "\n",
    "{Ресторан} → {Вид пиццы}\n",
    "\n",
    "{Ресторан} → {Район доставки}"
   ]
  },
  {
   "cell_type": "markdown",
   "metadata": {},
   "source": [
    "\n",
    "## Четвертая нормальная форма\n",
    "Декомпозиция:\n"
   ]
  },
  {
   "cell_type": "code",
   "execution_count": null,
   "metadata": {},
   "outputs": [],
   "source": [
    "({Ресторан, Вид пиццы, Район доставки} → Цена)"
   ]
  },
  {
   "cell_type": "markdown",
   "metadata": {},
   "source": [
    "\n",
    "## Пятая нормальная форма\n",
    "Отношения находятся в 5НФ, если оно находится в 4НФ и отсутствуют сложные зависимые соединения между атрибутами.\n",
    "\n",
    "Если «Атрибут зависит от «Атрибута_2», а «Атрибут_2» в свою очередь зависит от «Атрибута_3», а «Атрибут_3» зависит от «Атрибута_1», то все три атрибута обязательно входят в один кортеж."
   ]
  },
  {
   "cell_type": "markdown",
   "metadata": {},
   "source": [
    "\n",
    "## Шестая нормальная форма\n",
    "Переменная находится в 6НФ тогда и только тогда, когда она неприводима, то есть не может быть подвергнута дальнейшей декомпозиции без потерь."
   ]
  },
  {
   "cell_type": "markdown",
   "metadata": {},
   "source": [
    "\n",
    "## Шестая нормальная форма\n",
    "![nf6](./images/nf6_ex1.png)"
   ]
  },
  {
   "cell_type": "markdown",
   "metadata": {},
   "source": [
    "\n",
    "## Шестая нормальная форма\n",
    "![nf6](./images/nf6_ex2.png)"
   ]
  },
  {
   "cell_type": "markdown",
   "metadata": {},
   "source": [
    "\n",
    "## Шестая нормальная форма\n",
    "![nf6](./images/nf6_ex3.png)"
   ]
  },
  {
   "cell_type": "markdown",
   "metadata": {},
   "source": [
    "\n",
    "## Вопросы"
   ]
  },
  {
   "cell_type": "markdown",
   "metadata": {},
   "source": [
    "\n",
    "## JOIN\n",
    "- INNER\n",
    "- LEFT\n",
    "- RIGHT\n",
    "- FULL OUTER JOIN\n",
    "- CROSS JOIN\n",
    "- Natural JOIN\n",
    "- UPDATE JOIN"
   ]
  },
  {
   "cell_type": "markdown",
   "metadata": {},
   "source": [
    "\n",
    "## JOIN\n"
   ]
  },
  {
   "cell_type": "code",
   "execution_count": null,
   "metadata": {},
   "outputs": [],
   "source": [
    "SELECT\n",
    "  a.col1\n",
    "  b.col1\n",
    "FROM\n",
    "  table1 AS a [INNER, LEFT, RIGHT ....] JOIN table2 AS b\n",
    "  ON a.id = b.id [(AND|OR) condition....]"
   ]
  },
  {
   "cell_type": "markdown",
   "metadata": {},
   "source": [
    "\n",
    "## INNER JOIN\n",
    "![inner](./images/inner_ex1.png)"
   ]
  },
  {
   "cell_type": "markdown",
   "metadata": {},
   "source": [
    "\n",
    "## INNER JOIN\n"
   ]
  },
  {
   "cell_type": "code",
   "execution_count": null,
   "metadata": {},
   "outputs": [],
   "source": [
    "SELECT\n",
    " A.pka,\n",
    " A.c1,\n",
    " B.pkb,\n",
    " B.c2\n",
    "FROM\n",
    " A\n",
    "INNER JOIN B ON A .pka = B.fka;"
   ]
  },
  {
   "cell_type": "markdown",
   "metadata": {},
   "source": [
    "\n",
    "## INNER JOIN\n",
    "![inner_diag](./images/inner_diag.png)"
   ]
  },
  {
   "cell_type": "markdown",
   "metadata": {},
   "source": [
    "\n",
    "## Две таблицы\n",
    "![inner_ex2](./images/inner_ex2.png)"
   ]
  },
  {
   "cell_type": "markdown",
   "metadata": {},
   "source": [
    "\n",
    "## Две таблицы\n"
   ]
  },
  {
   "cell_type": "code",
   "execution_count": null,
   "metadata": {},
   "outputs": [],
   "source": [
    "SELECT\n",
    " customer.customer_id,\n",
    " first_name,\n",
    " last_name,\n",
    " email,\n",
    " amount,\n",
    " payment_date\n",
    "FROM\n",
    " customer\n",
    "INNER JOIN payment ON payment.customer_id = customer.customer_id;"
   ]
  },
  {
   "cell_type": "markdown",
   "metadata": {},
   "source": [
    "\n",
    "## Три таблицы\n",
    "![inner_ex3](./images/inner_ex3.png)"
   ]
  },
  {
   "cell_type": "markdown",
   "metadata": {},
   "source": [
    "\n",
    "## Три таблицы\n"
   ]
  },
  {
   "cell_type": "code",
   "execution_count": null,
   "metadata": {},
   "outputs": [],
   "source": [
    "SELECT\n",
    " customer.customer_id,\n",
    " customer.first_name customer_first_name,\n",
    " customer.last_name customer_last_name,\n",
    " customer.email,\n",
    " staff.first_name staff_first_name,\n",
    " staff.last_name staff_last_name,\n",
    " amount,\n",
    " payment_date\n",
    "FROM\n",
    " customer\n",
    "INNER JOIN payment ON payment.customer_id = customer.customer_id\n",
    "INNER JOIN staff ON payment.staff_id = staff.staff_id;"
   ]
  },
  {
   "cell_type": "markdown",
   "metadata": {},
   "source": [
    "\n",
    "## LEFT\n"
   ]
  },
  {
   "cell_type": "code",
   "execution_count": null,
   "metadata": {},
   "outputs": [],
   "source": [
    "SELECT\n",
    " A.pka,\n",
    " A.c1,\n",
    " B.pkb,\n",
    " B.c2\n",
    "FROM\n",
    " A\n",
    "LEFT JOIN B ON A .pka = B.fka;"
   ]
  },
  {
   "cell_type": "markdown",
   "metadata": {},
   "source": [
    "\n",
    "## LEFT\n",
    "![left_ex1](./images/left_ex1.png)"
   ]
  },
  {
   "cell_type": "markdown",
   "metadata": {},
   "source": [
    "\n",
    "## LEFT\n",
    "![left_ex2](./images/left_ex2.png)"
   ]
  },
  {
   "cell_type": "markdown",
   "metadata": {},
   "source": [
    "\n",
    "## LEFT\n"
   ]
  },
  {
   "cell_type": "code",
   "execution_count": null,
   "metadata": {},
   "outputs": [],
   "source": [
    "SELECT\n",
    " film.film_id,\n",
    " film.title,\n",
    " inventory_id\n",
    "FROM\n",
    " film\n",
    "LEFT JOIN inventory ON inventory.film_id = film.film_id;"
   ]
  },
  {
   "cell_type": "markdown",
   "metadata": {},
   "source": [
    "\n",
    "## RIGHT\n",
    "То же что и LEFT, только RIGHT"
   ]
  },
  {
   "cell_type": "markdown",
   "metadata": {},
   "source": [
    "\n",
    "## FULL OUTER\n"
   ]
  },
  {
   "cell_type": "code",
   "execution_count": null,
   "metadata": {},
   "outputs": [],
   "source": [
    "SELECT * FROM A\n",
    "FULL [OUTER] JOIN B on A.id = B.id;"
   ]
  },
  {
   "cell_type": "markdown",
   "metadata": {},
   "source": [
    "\n",
    "## FULL OUTER\n",
    "![full_ex1](./images/full_ex1.png)"
   ]
  },
  {
   "cell_type": "markdown",
   "metadata": {},
   "source": [
    "\n",
    "## FULL OUTER\n"
   ]
  },
  {
   "cell_type": "code",
   "execution_count": null,
   "metadata": {},
   "outputs": [],
   "source": [
    "# SELECT * FROM departments;\n",
    " department_id | department_name\n",
    "---------------+-----------------\n",
    "             1 | Sales\n",
    "             2 | Marketing\n",
    "             3 | HR\n",
    "             4 | IT\n",
    "             5 | Production\n",
    "(5 rows)"
   ]
  },
  {
   "cell_type": "markdown",
   "metadata": {},
   "source": [
    "\n",
    "## FULL OUTER\n"
   ]
  },
  {
   "cell_type": "code",
   "execution_count": null,
   "metadata": {},
   "outputs": [],
   "source": [
    "# SELECT * FROM employees;\n",
    " employee_id |  employee_name  | department_id\n",
    "-------------+-----------------+---------------\n",
    "           1 | Bette Nicholson |             1\n",
    "           2 | Christian Gable |             1\n",
    "           3 | Joe Swank       |             2\n",
    "           4 | Fred Costner    |             3\n",
    "           5 | Sandra Kilmer   |             4\n",
    "           6 | Julia Mcqueen   |\n",
    "(6 rows)"
   ]
  },
  {
   "cell_type": "markdown",
   "metadata": {},
   "source": [
    "\n",
    "## FULL OUTER\n"
   ]
  },
  {
   "cell_type": "code",
   "execution_count": null,
   "metadata": {},
   "outputs": [],
   "source": [
    "SELECT\n",
    " employee_name,\n",
    " department_name\n",
    "FROM\n",
    " employees e\n",
    "FULL OUTER JOIN departments d ON d.department_id = e.department_id;"
   ]
  },
  {
   "cell_type": "markdown",
   "metadata": {},
   "source": [
    "\n",
    "## FULL OUTER\n"
   ]
  },
  {
   "cell_type": "code",
   "execution_count": null,
   "metadata": {},
   "outputs": [],
   "source": [
    "employee_name  | department_name\n",
    "—---------------+---------------—\n",
    " Bette Nicholson | Sales\n",
    " Christian Gable | Sales\n",
    " Joe Swank       | Marketing\n",
    " Fred Costner    | HR\n",
    " Sandra Kilmer   | IT\n",
    " Julia Mcqueen   | NULL\n",
    " NULL            | Production"
   ]
  },
  {
   "cell_type": "markdown",
   "metadata": {},
   "source": [
    "\n",
    "## CROSS\n"
   ]
  },
  {
   "cell_type": "code",
   "execution_count": null,
   "metadata": {},
   "outputs": [],
   "source": [
    "CREATE TABLE T1 (label CHAR(1) PRIMARY KEY);\n",
    "\n",
    "CREATE TABLE T2 (score INT PRIMARY KEY);"
   ]
  },
  {
   "cell_type": "markdown",
   "metadata": {},
   "source": [
    "\n",
    "## CROSS\n"
   ]
  },
  {
   "cell_type": "code",
   "execution_count": null,
   "metadata": {},
   "outputs": [],
   "source": [
    "INSERT INTO T1 (label)\n",
    "VALUES\n",
    " ('A'),\n",
    " ('B');\n",
    "\n",
    "INSERT INTO T2 (score)\n",
    "VALUES\n",
    " (1),\n",
    " (2),\n",
    " (3);"
   ]
  },
  {
   "cell_type": "markdown",
   "metadata": {},
   "source": [
    "\n",
    "## CROSS\n"
   ]
  },
  {
   "cell_type": "code",
   "execution_count": null,
   "metadata": {},
   "outputs": [],
   "source": [
    "SELECT\n",
    " *\n",
    "FROM\n",
    " T1\n",
    "CROSS JOIN T2;"
   ]
  },
  {
   "cell_type": "markdown",
   "metadata": {},
   "source": [
    "\n",
    "## CROSS\n",
    "![cross_ex1](./images/cross_ex1.png)"
   ]
  },
  {
   "cell_type": "markdown",
   "metadata": {},
   "source": [
    "\n",
    "## CROSS\n",
    "Тоже самое\n"
   ]
  },
  {
   "cell_type": "code",
   "execution_count": null,
   "metadata": {},
   "outputs": [],
   "source": [
    "SELECT *\n",
    "FROM T1, T2;"
   ]
  },
  {
   "cell_type": "code",
   "execution_count": null,
   "metadata": {},
   "outputs": [],
   "source": [
    "SELECT *\n",
    "FROM T1\n",
    "INNER JOIN T2 ON TRUE;"
   ]
  },
  {
   "cell_type": "markdown",
   "metadata": {},
   "source": [
    "\n",
    "\n",
    "## NATURAL\n"
   ]
  },
  {
   "cell_type": "code",
   "execution_count": null,
   "metadata": {},
   "outputs": [],
   "source": [
    "SELECT *\n",
    "FROM T1\n",
    "NATURAL [INNER, LEFT, RIGHT] JOIN T2;"
   ]
  },
  {
   "cell_type": "markdown",
   "metadata": {},
   "source": [
    "\n",
    "## NATURAL\n",
    "![natural_ex1](./images/natural_ex1.png)"
   ]
  },
  {
   "cell_type": "markdown",
   "metadata": {},
   "source": [
    "\n",
    "## NATURAL\n"
   ]
  },
  {
   "cell_type": "code",
   "execution_count": null,
   "metadata": {},
   "outputs": [],
   "source": [
    "CREATE TABLE categories (\n",
    " category_id serial PRIMARY KEY,\n",
    " category_name VARCHAR (255) NOT NULL\n",
    ");\n",
    "\n",
    "CREATE TABLE products (\n",
    " product_id serial PRIMARY KEY,\n",
    " product_name VARCHAR (255) NOT NULL,\n",
    " category_id INT NOT NULL,\n",
    " FOREIGN KEY (category_id) REFERENCES category (category_id)\n",
    ");"
   ]
  },
  {
   "cell_type": "markdown",
   "metadata": {},
   "source": [
    "\n",
    "## NATURAL\n"
   ]
  },
  {
   "cell_type": "code",
   "execution_count": null,
   "metadata": {},
   "outputs": [],
   "source": [
    "SELECT\n",
    " *\n",
    "FROM\n",
    " products\n",
    "NATURAL JOIN categories;"
   ]
  },
  {
   "cell_type": "markdown",
   "metadata": {},
   "source": [
    "\n",
    "## NATURAL\n"
   ]
  },
  {
   "cell_type": "code",
   "execution_count": null,
   "metadata": {},
   "outputs": [],
   "source": [
    "category_id | product_id |  product_name   | category_name\n",
    "-------------+------------+-----------------+---------------\n",
    "           1 |          1 | iPhone          | Smart Phone\n",
    "           1 |          2 | Samsung Galaxy  | Smart Phone\n",
    "           2 |          3 | HP Elite        | Laptop\n",
    "           2 |          4 | Lenovo Thinkpad | Laptop\n",
    "           3 |          5 | iPad            | Tablet\n",
    "           3 |          6 | Kindle Fire     | Tablet\n",
    "(6 rows)"
   ]
  },
  {
   "cell_type": "markdown",
   "metadata": {},
   "source": [
    "\n",
    "## UPDATE JOIN\n"
   ]
  },
  {
   "cell_type": "code",
   "execution_count": null,
   "metadata": {},
   "outputs": [],
   "source": [
    "UPDATE A\n",
    "SET A.c1 = expresion\n",
    "FROM B\n",
    "WHERE A.c2 = B.c2;"
   ]
  },
  {
   "cell_type": "markdown",
   "metadata": {},
   "source": [
    "\n",
    "\n",
    "## UPDATE JOIN\n",
    "![update_ex1](./images/update_ex1.png)"
   ]
  },
  {
   "cell_type": "markdown",
   "metadata": {},
   "source": [
    "\n",
    "## UPDATE JOIN\n"
   ]
  },
  {
   "cell_type": "code",
   "execution_count": null,
   "metadata": {},
   "outputs": [],
   "source": [
    "UPDATE product\n",
    "SET net_price = price - price * discount\n",
    "FROM\n",
    "product_segment\n",
    "WHERE\n",
    "product.segment_id = product_segment.id;"
   ]
  },
  {
   "cell_type": "markdown",
   "metadata": {},
   "source": [
    "\n",
    "## Вопросы"
   ]
  },
  {
   "cell_type": "markdown",
   "metadata": {},
   "source": [
    "\n",
    "## ORDER BY\n"
   ]
  },
  {
   "cell_type": "code",
   "execution_count": null,
   "metadata": {},
   "outputs": [],
   "source": [
    "SELECT\n",
    " column_1,\n",
    " column_2\n",
    "FROM\n",
    " tbl_name\n",
    "ORDER BY\n",
    " column_1 ASC,\n",
    " column_2 DESC;"
   ]
  },
  {
   "cell_type": "markdown",
   "metadata": {},
   "source": [
    "\n",
    "## ORDER BY\n",
    "![order_ex1](./images/order_ex1.png)"
   ]
  },
  {
   "cell_type": "markdown",
   "metadata": {},
   "source": [
    "\n",
    "## ORDER BY\n"
   ]
  },
  {
   "cell_type": "code",
   "execution_count": null,
   "metadata": {},
   "outputs": [],
   "source": [
    "SELECT\n",
    " first_name,\n",
    " last_name\n",
    "FROM\n",
    " customer\n",
    "ORDER BY\n",
    " first_name ASC,\n",
    " last_name DESC;"
   ]
  },
  {
   "cell_type": "markdown",
   "metadata": {},
   "source": [
    "\n",
    "## ORDER BY\n",
    "![order_ex2](./images/order_ex2.png)"
   ]
  },
  {
   "cell_type": "markdown",
   "metadata": {},
   "source": [
    "\n",
    "\n",
    "## Виды агрегатных функции\n",
    "- Агрегатные функции общего назначения (min, max, avg, ...)\n",
    "- Агрегатные функции для статистических вычислений (corr, regr_avg, regr_syy, ...)\n",
    "- Сортирующие агрегатные функции(mode, percentile_cont, ...)\n",
    "- Гипотезирующие агрегатные функции (rank, dense, ...)\n",
    "- Операции группировки ( grouping )"
   ]
  },
  {
   "cell_type": "markdown",
   "metadata": {},
   "source": [
    "\n",
    "## Агрегатные функции\n"
   ]
  },
  {
   "cell_type": "code",
   "execution_count": null,
   "metadata": {},
   "outputs": [],
   "source": [
    "SELECT count(*) FROM sometable;"
   ]
  },
  {
   "cell_type": "markdown",
   "metadata": {},
   "source": [
    "\n",
    "## Пример\n"
   ]
  },
  {
   "cell_type": "code",
   "execution_count": null,
   "metadata": {},
   "outputs": [],
   "source": [
    "SELECT * FROM items_sold;\n",
    " make  | model | sales\n",
    "-------+-------+-------\n",
    " Foo   | GT    |  10\n",
    " Foo   | Tour  |  20\n",
    " Bar   | City  |  15\n",
    " Bar   | Sport |  5\n",
    "(4 rows)"
   ]
  },
  {
   "cell_type": "markdown",
   "metadata": {},
   "source": [
    "\n",
    "## Пример\n"
   ]
  },
  {
   "cell_type": "code",
   "execution_count": null,
   "metadata": {},
   "outputs": [],
   "source": [
    "SELECT make, model, GROUPING(make,model), sum(sales) FROM items_sold GROUP BY ROLLUP(make,model);\n",
    " make  | model | grouping | sum\n",
    "-------+-------+----------+-----\n",
    " Foo   | GT    |        0 | 10\n",
    " Foo   | Tour  |        0 | 20\n",
    " Bar   | City  |        0 | 15\n",
    " Bar   | Sport |        0 | 5\n",
    " Foo   |       |        1 | 30\n",
    " Bar   |       |        1 | 20\n",
    "       |       |        3 | 50\n",
    "(7 rows)"
   ]
  },
  {
   "cell_type": "markdown",
   "metadata": {},
   "source": [
    "\n",
    "## GROUP BY\n"
   ]
  },
  {
   "cell_type": "code",
   "execution_count": null,
   "metadata": {},
   "outputs": [],
   "source": [
    "SELECT column_1, aggregate_function(column_2)\n",
    "FROM tbl_name\n",
    "GROUP BY column_1;"
   ]
  },
  {
   "cell_type": "markdown",
   "metadata": {},
   "source": [
    "\n",
    "## GROUP BY\n",
    "![group_ex1](./images/group_ex1.png)"
   ]
  },
  {
   "cell_type": "markdown",
   "metadata": {},
   "source": [
    "\n",
    "## Пример\n"
   ]
  },
  {
   "cell_type": "code",
   "execution_count": null,
   "metadata": {},
   "outputs": [],
   "source": [
    "SELECT\n",
    " customer_id,\n",
    " SUM (amount)\n",
    "FROM\n",
    " payment\n",
    "GROUP BY\n",
    " customer_id;"
   ]
  },
  {
   "cell_type": "markdown",
   "metadata": {},
   "source": [
    "\n",
    "## Пример GROUP BY и ORDER BY\n"
   ]
  },
  {
   "cell_type": "code",
   "execution_count": null,
   "metadata": {},
   "outputs": [],
   "source": [
    "SELECT\n",
    " customer_id,\n",
    " SUM (amount)\n",
    "FROM\n",
    " payment\n",
    "GROUP BY\n",
    " customer_id\n",
    "ORDER BY\n",
    " SUM (amount) DESC;"
   ]
  },
  {
   "cell_type": "markdown",
   "metadata": {},
   "source": [
    "\n",
    "## HAVING\n"
   ]
  },
  {
   "cell_type": "code",
   "execution_count": null,
   "metadata": {},
   "outputs": [],
   "source": [
    "SELECT\n",
    " column_1,\n",
    " aggregate_function (column_2)\n",
    "FROM\n",
    " tbl_name\n",
    "GROUP BY\n",
    " column_1\n",
    "HAVING\n",
    " condition;"
   ]
  },
  {
   "cell_type": "markdown",
   "metadata": {},
   "source": [
    "\n",
    "## HAVING\n",
    "![having_ex1](./images/having_ex1.png)"
   ]
  },
  {
   "cell_type": "markdown",
   "metadata": {},
   "source": [
    "\n",
    "## HAVING\n"
   ]
  },
  {
   "cell_type": "code",
   "execution_count": null,
   "metadata": {},
   "outputs": [],
   "source": [
    "SELECT\n",
    " customer_id,\n",
    " SUM (amount)\n",
    "FROM\n",
    " payment\n",
    "GROUP BY\n",
    " customer_id\n",
    "HAVING\n",
    " SUM (amount) > 200;"
   ]
  },
  {
   "cell_type": "markdown",
   "metadata": {},
   "source": [
    "\n",
    "## Вопросы"
   ]
  },
  {
   "cell_type": "markdown",
   "metadata": {},
   "source": [
    "\n",
    "## Операции объединения\n",
    "- UNION\n",
    "- INTERSECT\n",
    "- EXCEPT"
   ]
  },
  {
   "cell_type": "markdown",
   "metadata": {},
   "source": [
    "\n",
    "## UNION\n"
   ]
  },
  {
   "cell_type": "code",
   "execution_count": null,
   "metadata": {},
   "outputs": [],
   "source": [
    "SELECT\n",
    " column_1,\n",
    " column_2\n",
    "FROM\n",
    " tbl_name_1\n",
    "UNION\n",
    "SELECT\n",
    " column_1,\n",
    " column_2\n",
    "FROM\n",
    " tbl_name_2;"
   ]
  },
  {
   "cell_type": "markdown",
   "metadata": {},
   "source": [
    "\n",
    "## UNION\n"
   ]
  },
  {
   "cell_type": "code",
   "execution_count": null,
   "metadata": {},
   "outputs": [],
   "source": [
    "SELECT *\n",
    "FROM\n",
    " sales2007q1\n",
    "UNION\n",
    "SELECT *\n",
    "FROM\n",
    " sales2007q2;"
   ]
  },
  {
   "cell_type": "markdown",
   "metadata": {},
   "source": [
    "\n",
    "## UNION ALL\n"
   ]
  },
  {
   "cell_type": "code",
   "execution_count": null,
   "metadata": {},
   "outputs": [],
   "source": [
    "SELECT *\n",
    "FROM\n",
    " sales2007q1\n",
    "UNION ALL\n",
    "SELECT *\n",
    "FROM\n",
    " sales2007q2;"
   ]
  },
  {
   "cell_type": "markdown",
   "metadata": {},
   "source": [
    "\n",
    "## INTERSECT\n",
    "![intersect](./images/intersect.png)"
   ]
  },
  {
   "cell_type": "markdown",
   "metadata": {},
   "source": [
    "\n",
    "## INTERSECT\n"
   ]
  },
  {
   "cell_type": "code",
   "execution_count": null,
   "metadata": {},
   "outputs": [],
   "source": [
    "SELECT\n",
    " column_list\n",
    "FROM\n",
    " A\n",
    "INTERSECT\n",
    "SELECT\n",
    " column_list\n",
    "FROM\n",
    " B;"
   ]
  },
  {
   "cell_type": "markdown",
   "metadata": {},
   "source": [
    "\n",
    "## Пример\n"
   ]
  },
  {
   "cell_type": "code",
   "execution_count": null,
   "metadata": {},
   "outputs": [],
   "source": [
    "CREATE TABLE employees (\n",
    " employee_id serial PRIMARY KEY,\n",
    " employee_name VARCHAR (255) NOT NULL\n",
    ");\n",
    "\n",
    "CREATE TABLE keys (\n",
    " employee_id INT PRIMARY KEY,\n",
    " effective_date DATE NOT NULL,\n",
    " FOREIGN KEY (employee_id) REFERENCES employees (employee_id)\n",
    ");\n",
    "\n",
    "CREATE TABLE hipos (\n",
    " employee_id INT PRIMARY KEY,\n",
    " effective_date DATE NOT NULL,\n",
    " FOREIGN KEY (employee_id) REFERENCES employees (employee_id)\n",
    ");"
   ]
  },
  {
   "cell_type": "markdown",
   "metadata": {},
   "source": [
    "\n",
    "## Пример\n"
   ]
  },
  {
   "cell_type": "code",
   "execution_count": null,
   "metadata": {},
   "outputs": [],
   "source": [
    "SELECT\n",
    " employee_id\n",
    "FROM\n",
    " keys\n",
    "INTERSECT\n",
    "SELECT\n",
    "        employee_id\n",
    "FROM\n",
    " hipos;"
   ]
  },
  {
   "cell_type": "markdown",
   "metadata": {},
   "source": [
    "\n",
    "## Пример\n"
   ]
  },
  {
   "cell_type": "code",
   "execution_count": null,
   "metadata": {},
   "outputs": [],
   "source": [
    "employee_id\n",
    "-------------\n",
    "           5\n",
    "           2\n",
    "(2 rows)"
   ]
  },
  {
   "cell_type": "markdown",
   "metadata": {},
   "source": [
    "\n",
    "## EXPECT\n",
    "![expect_ex1](./images/expect_ex1.png)"
   ]
  },
  {
   "cell_type": "markdown",
   "metadata": {},
   "source": [
    "\n",
    "## EXPECT\n"
   ]
  },
  {
   "cell_type": "code",
   "execution_count": null,
   "metadata": {},
   "outputs": [],
   "source": [
    "SELECT column_list\n",
    "FROM A\n",
    "WHERE condition_a\n",
    "EXCEPT\n",
    "SELECT column_list\n",
    "FROM B\n",
    "WHERE condition_b;"
   ]
  },
  {
   "cell_type": "markdown",
   "metadata": {},
   "source": [
    "\n",
    "## Пример c INNER JOIN\n"
   ]
  },
  {
   "cell_type": "code",
   "execution_count": null,
   "metadata": {},
   "outputs": [],
   "source": [
    "SELECT\n",
    " distinct inventory.film_id,\n",
    " title\n",
    "FROM\n",
    " inventory\n",
    "INNER JOIN film ON film.film_id = inventory.film_id\n",
    "ORDER BY title;"
   ]
  },
  {
   "cell_type": "markdown",
   "metadata": {},
   "source": [
    "\n",
    "## Пример с EXPECT\n"
   ]
  },
  {
   "cell_type": "code",
   "execution_count": null,
   "metadata": {},
   "outputs": [],
   "source": [
    "SELECT\n",
    " film_id,\n",
    " title\n",
    "FROM\n",
    " film\n",
    "EXCEPT\n",
    " SELECT\n",
    " DISTINCT inventory.film_id,\n",
    " title\n",
    " FROM\n",
    " inventory\n",
    " INNER JOIN film ON film.film_id = inventory.film_id"
   ]
  },
  {
   "cell_type": "markdown",
   "metadata": {},
   "source": [
    "\n",
    "## Вопросы"
   ]
  }
 ],
 "metadata": {},
 "nbformat": 4,
 "nbformat_minor": 2
}
