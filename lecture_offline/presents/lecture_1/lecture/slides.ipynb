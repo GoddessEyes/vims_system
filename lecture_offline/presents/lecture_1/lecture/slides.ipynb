{
 "cells": [
  {
   "cell_type": "markdown",
   "metadata": {},
   "source": [
    "# Добро пожаловать на курсы от компании Fogstream\n"
   ]
  },
  {
   "cell_type": "markdown",
   "metadata": {},
   "source": [
    "\n",
    "## О компании\n",
    "![Логотип компании](./images/Лого Ежико красивое.png)"
   ]
  },
  {
   "cell_type": "markdown",
   "metadata": {},
   "source": [
    "\n",
    "## 10.10.10\n",
    "![ДР](./images/GeekCake3th.jpg)"
   ]
  },
  {
   "cell_type": "markdown",
   "metadata": {},
   "source": [
    "\n",
    "## О курсе\n",
    "- 3 секции"
   ]
  },
  {
   "cell_type": "markdown",
   "metadata": {},
   "source": [
    "\n",
    "## О курсе\n",
    "- 3 секции\n",
    "- 2 этапа"
   ]
  },
  {
   "cell_type": "markdown",
   "metadata": {},
   "source": [
    "\n",
    "## О курсе\n",
    "- 3 секции\n",
    "- 2 этапа\n",
    "- 6 месяцев"
   ]
  },
  {
   "cell_type": "markdown",
   "metadata": {},
   "source": [
    "\n",
    "## Введение в программирование на языке Python"
   ]
  },
  {
   "cell_type": "markdown",
   "metadata": {},
   "source": [
    "\n",
    "## История языка\n",
    "![История языка Python](./images/python-django-3-638.jpg)"
   ]
  },
  {
   "cell_type": "markdown",
   "metadata": {},
   "source": [
    "\n",
    "## Чем Python крут\n",
    " - Лаконичный и понятный"
   ]
  },
  {
   "cell_type": "markdown",
   "metadata": {},
   "source": [
    "\n",
    "## Лаконичный и понятный\n",
    " "
   ]
  },
  {
   "cell_type": "code",
   "execution_count": null,
   "metadata": {},
   "outputs": [],
   "source": [
    " # Что делает эта функция?\n",
    " print('Hello world!')\n",
    "\n",
    " # А эта?\n",
    " len('Hello world!')\n",
    "\n",
    " # Тут еще сложнее\n",
    " sorted('Hello world!')"
   ]
  },
  {
   "cell_type": "markdown",
   "metadata": {},
   "source": [
    "\n",
    "## Чем Python крут\n",
    "- Лаконичный и понятный\n",
    "- Универсальный"
   ]
  },
  {
   "cell_type": "markdown",
   "metadata": {},
   "source": [
    "\n",
    "## Универсальный"
   ]
  },
  {
   "cell_type": "markdown",
   "metadata": {},
   "source": [
    "\n",
    "## Области применения\n",
    "- Веб\n",
    "- Системы сбора и обработки данных\n",
    "- Статистика и машинное обучение\n",
    "- Роботы\n",
    "- Автоматизация рутины\n",
    "- Боты\n",
    "- Desktop-приложения\n",
    "- Много всего другого"
   ]
  },
  {
   "cell_type": "markdown",
   "metadata": {},
   "source": [
    "\n",
    "## Чем Python крут\n",
    " - Лаконичный и понятный\n",
    " - Универсальный\n",
    " - Большое сообщество"
   ]
  },
  {
   "cell_type": "markdown",
   "metadata": {},
   "source": [
    "\n",
    "## Большое сообщество\n",
    "- Хорошая документация"
   ]
  },
  {
   "cell_type": "markdown",
   "metadata": {},
   "source": [
    "\n",
    "## Большое сообщество\n",
    "- Хорошая документация\n",
    "- Много обучающего материала (курсы, митапы, статьи)"
   ]
  },
  {
   "cell_type": "markdown",
   "metadata": {},
   "source": [
    "\n",
    "## Большое сообщество\n",
    "- Хорошая документация\n",
    "- Много обучающего материала (курсы, митапы, статьи)\n",
    "- stackoverflow.com"
   ]
  },
  {
   "cell_type": "markdown",
   "metadata": {},
   "source": [
    "\n",
    "## Большое сообщество\n",
    "- Хорошая документация\n",
    "- Много обучающего материала (курсы, митапы, статьи)\n",
    "- stackoverflow.com\n",
    "\n",
    "- Не бойтесь гуглить проблему!"
   ]
  },
  {
   "cell_type": "markdown",
   "metadata": {},
   "source": [
    "\n",
    "\n",
    "## А также Python\n",
    "- Интерпретируемый"
   ]
  },
  {
   "cell_type": "markdown",
   "metadata": {},
   "source": [
    "\n",
    "## А также Python\n",
    "- Интерпретируемый\n",
    "- Динамический"
   ]
  },
  {
   "cell_type": "markdown",
   "metadata": {},
   "source": [
    "\n",
    "## А также Python\n",
    "- Интерпретируемый\n",
    "- Динамический\n",
    "- Мультипарадигменный"
   ]
  },
  {
   "cell_type": "markdown",
   "metadata": {},
   "source": [
    "\n",
    "## Сложно?"
   ]
  },
  {
   "cell_type": "markdown",
   "metadata": {},
   "source": [
    "\n",
    "## Интерпретируемый"
   ]
  },
  {
   "cell_type": "markdown",
   "metadata": {},
   "source": [
    "\n",
    "## Динамический\n"
   ]
  },
  {
   "cell_type": "code",
   "execution_count": null,
   "metadata": {},
   "outputs": [],
   "source": [
    "var = 1 # Интерпретатор понимает, что в переменная ссылается на число\n",
    "\n",
    "var = 'Привет' # Ошибки никакой нет. WTF?"
   ]
  },
  {
   "cell_type": "markdown",
   "metadata": {},
   "source": [
    "\n",
    "## Мультипарадигменный\n",
    "- Процедурное программирование"
   ]
  },
  {
   "cell_type": "markdown",
   "metadata": {},
   "source": [
    "\n",
    "## Мультипарадигменный\n",
    "- Процедурное программирование\n",
    "- Функциональное программирование"
   ]
  },
  {
   "cell_type": "markdown",
   "metadata": {},
   "source": [
    "\n",
    "## Мультипарадигменный\n",
    "- Процедурное программирование\n",
    "- Функциональное программирование\n",
    "- Объектно-ориентированное программирование"
   ]
  },
  {
   "cell_type": "markdown",
   "metadata": {},
   "source": [
    "\n",
    "## Базовые типы данных в Python\n",
    "- Числа"
   ]
  },
  {
   "cell_type": "markdown",
   "metadata": {},
   "source": [
    "\n",
    "## Базовые типы данных в Python\n",
    "- Числа\n",
    "- Строки"
   ]
  },
  {
   "cell_type": "markdown",
   "metadata": {},
   "source": [
    "\n",
    "## Базовые типы данных в Python\n",
    "- Числа\n",
    "- Строки\n",
    "- Логические"
   ]
  },
  {
   "cell_type": "markdown",
   "metadata": {},
   "source": [
    "\n",
    "## Базовые типы данных в Python\n",
    "- Числа\n",
    "- Строки\n",
    "- Логические\n",
    "- Последовательности"
   ]
  },
  {
   "cell_type": "markdown",
   "metadata": {},
   "source": [
    "\n",
    "## Базовые типы данных в Python\n",
    "- Числа\n",
    "- Строки\n",
    "- Логические\n",
    "- Последовательности\n",
    "- Файлы"
   ]
  },
  {
   "cell_type": "markdown",
   "metadata": {},
   "source": [
    "\n",
    "## Числа\n",
    "- Целые"
   ]
  },
  {
   "cell_type": "markdown",
   "metadata": {},
   "source": [
    "\n",
    "## Числа\n",
    "- Целые\n",
    "- Вещественные"
   ]
  },
  {
   "cell_type": "markdown",
   "metadata": {},
   "source": [
    "\n",
    "## Числа\n",
    "- Целые\n",
    "- Вещественные\n",
    "- Комплексные"
   ]
  },
  {
   "cell_type": "markdown",
   "metadata": {},
   "source": [
    "\n",
    "## Целые числа\n"
   ]
  },
  {
   "cell_type": "code",
   "execution_count": null,
   "metadata": {},
   "outputs": [],
   "source": [
    "a = 5\n",
    "b = 10"
   ]
  },
  {
   "cell_type": "markdown",
   "metadata": {},
   "source": [
    "\n",
    "## Вещественные числа\n"
   ]
  },
  {
   "cell_type": "code",
   "execution_count": null,
   "metadata": {},
   "outputs": [],
   "source": [
    "a = 3.14\n",
    "b = 5.25"
   ]
  },
  {
   "cell_type": "markdown",
   "metadata": {},
   "source": [
    "\n",
    "## Важно\n"
   ]
  },
  {
   "cell_type": "code",
   "execution_count": null,
   "metadata": {},
   "outputs": [],
   "source": [
    "a = 1\n",
    "b = 1.0\n",
    "\n",
    "a == b # ???"
   ]
  },
  {
   "cell_type": "markdown",
   "metadata": {},
   "source": [
    "\n",
    "## Важно\n"
   ]
  },
  {
   "cell_type": "code",
   "execution_count": null,
   "metadata": {},
   "outputs": [],
   "source": [
    "a = 1\n",
    "b = 1.0\n",
    "\n",
    "a == b # True"
   ]
  },
  {
   "cell_type": "markdown",
   "metadata": {},
   "source": [
    "\n",
    "## Комплексные числа\n"
   ]
  },
  {
   "cell_type": "code",
   "execution_count": null,
   "metadata": {},
   "outputs": [],
   "source": [
    "z = 1 + 2j\n",
    "\n",
    "# Действительная часть\n",
    "z.real\n",
    "\n",
    "# Мнимая часть\n",
    "z.imag"
   ]
  },
  {
   "cell_type": "markdown",
   "metadata": {},
   "source": [
    "\n",
    "## Операции\n",
    "\"Числа - они и в Африке числа.\"(с) Цитаты великих людей\n"
   ]
  },
  {
   "cell_type": "code",
   "execution_count": null,
   "metadata": {},
   "outputs": [],
   "source": [
    "a = 5\n",
    "b = 3.14\n",
    "\n",
    "# Скадываем\n",
    "a + b"
   ]
  },
  {
   "cell_type": "markdown",
   "metadata": {},
   "source": [
    "\n",
    "## Операции\n",
    "\"Числа - они и в Африке числа.\"(с) Цитаты великих людей\n"
   ]
  },
  {
   "cell_type": "code",
   "execution_count": null,
   "metadata": {},
   "outputs": [],
   "source": [
    "a = 5\n",
    "b = 3.14\n",
    "\n",
    "# Скадываем\n",
    "a + b # 8.14\n",
    "\n",
    "# Отнимаем\n",
    "a - b"
   ]
  },
  {
   "cell_type": "markdown",
   "metadata": {},
   "source": [
    "\n",
    "## Операции\n",
    "\"Числа - они и в Африке числа.\"(с) Цитаты великих людей\n"
   ]
  },
  {
   "cell_type": "code",
   "execution_count": null,
   "metadata": {},
   "outputs": [],
   "source": [
    "a = 5\n",
    "b = 3.14\n",
    "\n",
    "# Скадываем\n",
    "a + b # 8.14\n",
    "\n",
    "# Отнимаем\n",
    "a - b # 1.8599999999999999\n",
    "\n",
    "# Умножаем\n",
    "a * b"
   ]
  },
  {
   "cell_type": "markdown",
   "metadata": {},
   "source": [
    "\n",
    "## Операции\n",
    "\"Числа - они и в Африке числа.\"(с) Цитаты великих людей\n"
   ]
  },
  {
   "cell_type": "code",
   "execution_count": null,
   "metadata": {},
   "outputs": [],
   "source": [
    "a = 5\n",
    "b = 3.14\n",
    "\n",
    "# Скадываем\n",
    "a + b # 8.14\n",
    "\n",
    "# Отнимаем\n",
    "a - b # 1.8599999999999999\n",
    "\n",
    "# Умножаем\n",
    "a * b # 15.700000000000001\n",
    "\n",
    "# Делим\n",
    "a / b"
   ]
  },
  {
   "cell_type": "markdown",
   "metadata": {},
   "source": [
    "\n",
    "## Операции\n",
    "\"Числа - они и в Африке числа.\"(с) Цитаты великих людей\n"
   ]
  },
  {
   "cell_type": "code",
   "execution_count": null,
   "metadata": {},
   "outputs": [],
   "source": [
    "a = 5\n",
    "b = 3.14\n",
    "\n",
    "# Скадываем\n",
    "a + b # 8.14\n",
    "\n",
    "# Отнимаем\n",
    "a - b # 1.8599999999999999\n",
    "\n",
    "# Умножаем\n",
    "a * b # 15.700000000000001\n",
    "\n",
    "# Делим\n",
    "a / b # 1.592356687898089\n",
    "\n",
    "# Возводим в степень\n",
    "a ** 2"
   ]
  },
  {
   "cell_type": "markdown",
   "metadata": {},
   "source": [
    "\n",
    "## Операции\n",
    "\"Числа - они и в Африке числа.\"(с) Цитаты великих людей\n"
   ]
  },
  {
   "cell_type": "code",
   "execution_count": null,
   "metadata": {},
   "outputs": [],
   "source": [
    "a = 5\n",
    "b = 3.14\n",
    "\n",
    "# Скадываем\n",
    "a + b # 8.14\n",
    "\n",
    "# Отнимаем\n",
    "a - b # 1.8599999999999999\n",
    "\n",
    "# Умножаем\n",
    "a * b # 15.700000000000001\n",
    "\n",
    "# Делим\n",
    "a / b # 1.592356687898089\n",
    "\n",
    "# Возводим в степень\n",
    "a ** 2 # 25"
   ]
  },
  {
   "cell_type": "markdown",
   "metadata": {},
   "source": [
    "\n",
    "## Можно сравнивать\n"
   ]
  },
  {
   "cell_type": "code",
   "execution_count": null,
   "metadata": {},
   "outputs": [],
   "source": [
    "a == b # ???\n",
    "\n",
    "a > b # ???\n",
    "\n",
    "a <= b # ???"
   ]
  },
  {
   "cell_type": "markdown",
   "metadata": {},
   "source": [
    "\n",
    "## Можно сравнивать\n"
   ]
  },
  {
   "cell_type": "code",
   "execution_count": null,
   "metadata": {},
   "outputs": [],
   "source": [
    "a == b # False\n",
    "\n",
    "a > b # True\n",
    "\n",
    "a <= b # False"
   ]
  },
  {
   "cell_type": "markdown",
   "metadata": {},
   "source": [
    "\n",
    "## Строки\n"
   ]
  },
  {
   "cell_type": "code",
   "execution_count": null,
   "metadata": {},
   "outputs": [],
   "source": [
    "'строка'\n",
    "\n",
    "\"строка\"\n",
    "\n",
    "''' строка с\n",
    "переносом  '''"
   ]
  },
  {
   "cell_type": "markdown",
   "metadata": {},
   "source": [
    "\n",
    "## Операции со строками\n"
   ]
  },
  {
   "cell_type": "code",
   "execution_count": null,
   "metadata": {},
   "outputs": [],
   "source": [
    "a = 'Fogstream'\n",
    "\n",
    "# Получение символа по индексу\n",
    "a[0] # 'F'\n",
    "\n",
    "a[4] # 't'"
   ]
  },
  {
   "cell_type": "markdown",
   "metadata": {},
   "source": [
    "\n",
    "## Срезы\n"
   ]
  },
  {
   "cell_type": "code",
   "execution_count": null,
   "metadata": {},
   "outputs": [],
   "source": [
    "a[0:3] # 'Fog'"
   ]
  },
  {
   "cell_type": "markdown",
   "metadata": {},
   "source": [
    "\n",
    "## Срезы\n"
   ]
  },
  {
   "cell_type": "code",
   "execution_count": null,
   "metadata": {},
   "outputs": [],
   "source": [
    "a[0:3] # 'Fog'\n",
    "\n",
    "a[:3] # Тоже самое"
   ]
  },
  {
   "cell_type": "markdown",
   "metadata": {},
   "source": [
    "\n",
    "## Срезы\n"
   ]
  },
  {
   "cell_type": "code",
   "execution_count": null,
   "metadata": {},
   "outputs": [],
   "source": [
    "a[0:3] # 'Fog'\n",
    "\n",
    "a[:3] # Тоже самое\n",
    "\n",
    "a[4:9] # 'tream'"
   ]
  },
  {
   "cell_type": "markdown",
   "metadata": {},
   "source": [
    "\n",
    "## Срезы\n"
   ]
  },
  {
   "cell_type": "code",
   "execution_count": null,
   "metadata": {},
   "outputs": [],
   "source": [
    "a[0:3] # 'Fog'\n",
    "\n",
    "a[:3] # Тоже самое\n",
    "\n",
    "a[4:9] # 'tream'\n",
    "\n",
    "a[4:] # Можно и так"
   ]
  },
  {
   "cell_type": "markdown",
   "metadata": {},
   "source": [
    "\n",
    "## Срезы\n"
   ]
  },
  {
   "cell_type": "code",
   "execution_count": null,
   "metadata": {},
   "outputs": [],
   "source": [
    "a[-1] # Отрицательный индекс?!"
   ]
  },
  {
   "cell_type": "markdown",
   "metadata": {},
   "source": [
    "\n",
    "![WAT](./images/wat.jpg)"
   ]
  },
  {
   "cell_type": "markdown",
   "metadata": {},
   "source": [
    "\n",
    "## Срезы\n"
   ]
  },
  {
   "cell_type": "code",
   "execution_count": null,
   "metadata": {},
   "outputs": [],
   "source": [
    "a[-1] # 'm'"
   ]
  },
  {
   "cell_type": "markdown",
   "metadata": {},
   "source": [
    "\n",
    "## Еще о срезах\n"
   ]
  },
  {
   "cell_type": "code",
   "execution_count": null,
   "metadata": {},
   "outputs": [],
   "source": [
    "a[start:end:step]"
   ]
  },
  {
   "cell_type": "markdown",
   "metadata": {},
   "source": [
    "\n",
    "## Проверить дома\n"
   ]
  },
  {
   "cell_type": "code",
   "execution_count": null,
   "metadata": {},
   "outputs": [],
   "source": [
    "a[1:3]\n",
    "\n",
    "a[:4:2]\n",
    "\n",
    "a[2::3]\n",
    "\n",
    "a[::2]\n",
    "\n",
    "a[::-1]\n",
    "\n",
    "a[:]"
   ]
  },
  {
   "cell_type": "markdown",
   "metadata": {},
   "source": [
    "\n",
    "## Срезы не измеют строку, а создают новую\n"
   ]
  },
  {
   "cell_type": "code",
   "execution_count": null,
   "metadata": {},
   "outputs": [],
   "source": [
    "new_str = a[:-1]\n",
    "\n",
    "print(new_str) # 'Fogstrea'\n",
    "\n",
    "print(a) # 'Fogstream'"
   ]
  },
  {
   "cell_type": "markdown",
   "metadata": {},
   "source": [
    "\n",
    "## Сложение строк\n"
   ]
  },
  {
   "cell_type": "code",
   "execution_count": null,
   "metadata": {},
   "outputs": [],
   "source": [
    "b = 'Courses'\n",
    "\n",
    "a + ' ' + b  # Fogstream Courses"
   ]
  },
  {
   "cell_type": "markdown",
   "metadata": {},
   "source": [
    "\n",
    "## Важно\n",
    "Строки не изменяемы\n"
   ]
  },
  {
   "cell_type": "markdown",
   "metadata": {},
   "source": [
    "```python\n",
    "a[0] = 'p' # ОШИБКА"
   ]
  },
  {
   "cell_type": "markdown",
   "metadata": {},
   "source": [
    "\n"
   ]
  },
  {
   "cell_type": "markdown",
   "metadata": {},
   "source": [
    "```"
   ]
  },
  {
   "cell_type": "markdown",
   "metadata": {},
   "source": [
    "\n",
    "## Еще операции со строками\n"
   ]
  },
  {
   "cell_type": "code",
   "execution_count": null,
   "metadata": {},
   "outputs": [],
   "source": [
    "'hello  '.strip()  # 'hello'\n",
    "\n",
    "'hello world'.upper()  # 'HELLO WORLD'\n",
    "\n",
    "len('hello')  # 5\n",
    "\n",
    "'wor' in 'hello world'  # True (входит ли \"wor\" в строку \"hello world\")\n",
    "\n",
    "'hello world'.startswith('hell')  # True (начинается ли  \"hello world\" c \"hell\")"
   ]
  },
  {
   "cell_type": "markdown",
   "metadata": {},
   "source": [
    "\n",
    "## Последовательности\n",
    "- Списки"
   ]
  },
  {
   "cell_type": "markdown",
   "metadata": {},
   "source": [
    "\n",
    "## Последовательности\n",
    "- Списки\n",
    "- Кортежи"
   ]
  },
  {
   "cell_type": "markdown",
   "metadata": {},
   "source": [
    "\n",
    "## Последовательности\n",
    "- Списки\n",
    "- Кортежи\n",
    "- Словари"
   ]
  },
  {
   "cell_type": "markdown",
   "metadata": {},
   "source": [
    "\n",
    "## Последовательности\n",
    "- Списки\n",
    "- Кортежи\n",
    "- Словари\n",
    "- Множества"
   ]
  },
  {
   "cell_type": "markdown",
   "metadata": {},
   "source": [
    "\n",
    "## Последовательности\n",
    "### О последовательностях на следующем занятии"
   ]
  },
  {
   "cell_type": "markdown",
   "metadata": {},
   "source": [
    "\n",
    "## Резюмируем\n",
    "- Изучили прелести Python"
   ]
  },
  {
   "cell_type": "markdown",
   "metadata": {},
   "source": [
    "\n",
    "## Резюмируем\n",
    "- Изучили прелести Python\n",
    "- Посмотрели базовые типы"
   ]
  },
  {
   "cell_type": "markdown",
   "metadata": {},
   "source": [
    "\n",
    "## Резюмируем\n",
    "- Изучили прелести Python\n",
    "- Посмотрели базовые типы\n",
    "- Научились с ними работать"
   ]
  },
  {
   "cell_type": "markdown",
   "metadata": {},
   "source": [
    "\n",
    "## Резюмируем\n",
    "- Изучили прелести Python\n",
    "- Посмотрели базовые типы\n",
    "- Научились с ними работать\n",
    "- ..."
   ]
  },
  {
   "cell_type": "markdown",
   "metadata": {},
   "source": [
    "\n",
    "## Резюмируем\n",
    "- Изучили прелести Python\n",
    "- Посмотрели базовые типы\n",
    "- Научились с ними работать\n",
    "- ...\n",
    "- PROFIT!"
   ]
  },
  {
   "cell_type": "markdown",
   "metadata": {},
   "source": [
    "\n",
    "## Что дальше?"
   ]
  },
  {
   "cell_type": "markdown",
   "metadata": {},
   "source": [
    "\n",
    "## Как эту магию запустить\n",
    "- Установка Python3\n"
   ]
  },
  {
   "cell_type": "code",
   "execution_count": null,
   "metadata": {},
   "outputs": [],
   "source": [
    "sudo apt-get install python3"
   ]
  },
  {
   "cell_type": "markdown",
   "metadata": {},
   "source": [
    "- Установка\n",
    "[virtual environment](http://docs.python-guide.org/en/latest/dev/virtualenvs/#lower-level-virtualenv)\n",
    "\n",
    "- Ставим текстовый редактор или IDE\n"
   ]
  },
  {
   "cell_type": "code",
   "execution_count": null,
   "metadata": {},
   "outputs": [],
   "source": [
    "PyCharm\n",
    "или\n",
    "Sublime Text\n",
    "или\n",
    "Atom\n",
    "или\n",
    "много чего другого"
   ]
  },
  {
   "cell_type": "markdown",
   "metadata": {},
   "source": [
    "\n",
    "## Что лучше ставить?\n",
    "![На вкус и цвет](./images/pens.jpg)"
   ]
  },
  {
   "cell_type": "markdown",
   "metadata": {},
   "source": [
    "\n",
    "## Спасибо за внимание!\n",
    "![Спасибо за внимание](./images/thanks.jpg)"
   ]
  },
  {
   "cell_type": "markdown",
   "metadata": {},
   "source": [
    "\n",
    "## Вопросы"
   ]
  }
 ],
 "metadata": {},
 "nbformat": 4,
 "nbformat_minor": 2
}
