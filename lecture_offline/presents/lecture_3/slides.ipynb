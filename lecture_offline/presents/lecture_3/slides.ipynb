{
 "cells": [
  {
   "cell_type": "markdown",
   "metadata": {},
   "source": [
    "# Лекция 3\n"
   ]
  },
  {
   "cell_type": "markdown",
   "metadata": {},
   "source": [
    "\n",
    "\n",
    "## Как мы делали\n"
   ]
  },
  {
   "cell_type": "code",
   "execution_count": null,
   "metadata": {},
   "outputs": [],
   "source": [
    "lst = input().split()"
   ]
  },
  {
   "cell_type": "markdown",
   "metadata": {},
   "source": [
    "\n",
    "\n",
    "## Как мы делали\n"
   ]
  },
  {
   "cell_type": "code",
   "execution_count": null,
   "metadata": {},
   "outputs": [],
   "source": [
    "lst = input().split() # =((("
   ]
  },
  {
   "cell_type": "markdown",
   "metadata": {},
   "source": [
    "\n",
    "\n",
    "## Что спасет нас?!\n",
    "![Спаситель](./images/supermen.png)"
   ]
  },
  {
   "cell_type": "markdown",
   "metadata": {},
   "source": [
    "\n",
    "## Файлы"
   ]
  },
  {
   "cell_type": "markdown",
   "metadata": {},
   "source": [
    "\n",
    "# Файлы\n",
    "Тестовые и бинарные файлы в Python - две большие разницы"
   ]
  },
  {
   "cell_type": "markdown",
   "metadata": {},
   "source": [
    "\n",
    "# Файлы\n",
    "Чтобы создать файл, воспользуемся оператором "
   ]
  },
  {
   "cell_type": "markdown",
   "metadata": {},
   "source": [
    "```open"
   ]
  },
  {
   "cell_type": "markdown",
   "metadata": {},
   "source": [
    "```."
   ]
  },
  {
   "cell_type": "markdown",
   "metadata": {},
   "source": [
    "\n",
    "## Файлы\n"
   ]
  },
  {
   "cell_type": "code",
   "execution_count": null,
   "metadata": {},
   "outputs": [],
   "source": [
    "open('../examples/example1')"
   ]
  },
  {
   "cell_type": "markdown",
   "metadata": {},
   "source": [
    "\n",
    "## Файлы\n"
   ]
  },
  {
   "cell_type": "code",
   "execution_count": null,
   "metadata": {},
   "outputs": [],
   "source": [
    " # Один обязательный аргумент - путь до файла\n",
    "open('./examples/example1')"
   ]
  },
  {
   "cell_type": "markdown",
   "metadata": {},
   "source": [
    "\n",
    "## Файлы\n"
   ]
  },
  {
   "cell_type": "code",
   "execution_count": null,
   "metadata": {},
   "outputs": [],
   "source": [
    " # Один обязательный аргумент - путь до файла\n",
    "open('./examples/example1')\n",
    "# <_io.TextIOWrapper name='./examples/example1' mode='r' encoding='UTF-8'>"
   ]
  },
  {
   "cell_type": "markdown",
   "metadata": {},
   "source": [
    "\n",
    "## Аргументы функции open"
   ]
  },
  {
   "cell_type": "markdown",
   "metadata": {},
   "source": [
    "\n",
    "## Аргументы функции open\n",
    "- mode - определяет режим, в котором будет открыт файл"
   ]
  },
  {
   "cell_type": "markdown",
   "metadata": {},
   "source": [
    "\n",
    "## Аргументы функции open\n",
    "- mode - определяет режим, в котором будет открыт файл\n",
    "\n",
    "- "
   ]
  },
  {
   "cell_type": "markdown",
   "metadata": {},
   "source": [
    "```r"
   ]
  },
  {
   "cell_type": "markdown",
   "metadata": {},
   "source": [
    "```, "
   ]
  },
  {
   "cell_type": "markdown",
   "metadata": {},
   "source": [
    "```w"
   ]
  },
  {
   "cell_type": "markdown",
   "metadata": {},
   "source": [
    "```, "
   ]
  },
  {
   "cell_type": "markdown",
   "metadata": {},
   "source": [
    "```a"
   ]
  },
  {
   "cell_type": "markdown",
   "metadata": {},
   "source": [
    "```, "
   ]
  },
  {
   "cell_type": "code",
   "execution_count": null,
   "metadata": {},
   "outputs": [],
   "source": [
    "- ```b```, ```t"
   ]
  },
  {
   "cell_type": "markdown",
   "metadata": {},
   "source": [
    "\n",
    "## Аргументы функции open\n",
    "- mode - определяет режим, в котором будет открыт файл\n",
    "- для тестовых файлов можно указать "
   ]
  },
  {
   "cell_type": "markdown",
   "metadata": {},
   "source": [
    "```encoding"
   ]
  },
  {
   "cell_type": "markdown",
   "metadata": {},
   "source": [
    "``` и "
   ]
  },
  {
   "cell_type": "markdown",
   "metadata": {},
   "source": [
    "```errors"
   ]
  },
  {
   "cell_type": "markdown",
   "metadata": {},
   "source": [
    "```."
   ]
  },
  {
   "cell_type": "markdown",
   "metadata": {},
   "source": [
    "\n",
    "## Операции с файлами\n",
    "Открыть бинарный файл для чтения:\n"
   ]
  },
  {
   "cell_type": "code",
   "execution_count": null,
   "metadata": {},
   "outputs": [],
   "source": [
    "open('./examples/csc.db', 'r+b')"
   ]
  },
  {
   "cell_type": "markdown",
   "metadata": {},
   "source": [
    "\n",
    "\n",
    "## Операции с файлами\n",
    "Открыть бинарный файл для чтения:\n"
   ]
  },
  {
   "cell_type": "code",
   "execution_count": null,
   "metadata": {},
   "outputs": [],
   "source": [
    "open('./examples/csc.db', 'r+b')\n",
    "# <_io.BufferedRandom name='./csc.db'>"
   ]
  },
  {
   "cell_type": "markdown",
   "metadata": {},
   "source": [
    "\n",
    "## Операции с файлами\n",
    "Открыть текстовый файл в кодировке 'cp1251' для добавления, игнорируя ошибки:\n"
   ]
  },
  {
   "cell_type": "code",
   "execution_count": null,
   "metadata": {},
   "outputs": [],
   "source": [
    "open('./examples/example1', 'a', encoding='cp1251', errors='ignore')"
   ]
  },
  {
   "cell_type": "markdown",
   "metadata": {},
   "source": [
    "\n",
    "## Операции с файлами\n",
    "Открыть текстовый файл в кодировке 'cp1251' для добавления, игнорируя ошибки:\n"
   ]
  },
  {
   "cell_type": "code",
   "execution_count": null,
   "metadata": {},
   "outputs": [],
   "source": [
    "open('./examples/example1', 'a', encoding='cp1251', errors='ignore')\n",
    "# <[...] name='./example1' mode='a' encoding='cp1251'>"
   ]
  },
  {
   "cell_type": "markdown",
   "metadata": {},
   "source": [
    "\n",
    "\n",
    "## Операции с файлами\n",
    "Создать новый текстовый файл в системной кодировке и\n",
    "открыть его для записи:\n"
   ]
  },
  {
   "cell_type": "code",
   "execution_count": null,
   "metadata": {},
   "outputs": [],
   "source": [
    "open(\"./lecture4.tex\", \"x\")\n",
    "# <[...] name='./lecture4.tex' mode='x' encoding='UTF-8'>"
   ]
  },
  {
   "cell_type": "markdown",
   "metadata": {},
   "source": [
    "\n",
    "\n",
    "## Атрибуты файлового объекта\n"
   ]
  },
  {
   "cell_type": "code",
   "execution_count": null,
   "metadata": {},
   "outputs": [],
   "source": [
    "my_file = open(\"some.txt\", \"w\")\n",
    "\n",
    "print(\"Имя файла: \", my_file.name)\n",
    "print(\"Файл закрыт: \", my_file.closed)\n",
    "print(\"В каком режиме файл открыт: \", my_file.mode)\n",
    "print(\"Пробелы: \", my_file.softspace)"
   ]
  },
  {
   "cell_type": "markdown",
   "metadata": {},
   "source": [
    "\n",
    "\n",
    "## Атрибуты файлового объекта\n"
   ]
  },
  {
   "cell_type": "code",
   "execution_count": null,
   "metadata": {},
   "outputs": [],
   "source": [
    "my_file = open(\"some.txt\", \"w\")\n",
    "\n",
    "print(\"Имя файла: \", my_file.name) # 'some.txt'\n",
    "print(\"Файл закрыт: \", my_file.closed) # False\n",
    "print(\"В каком режиме файл открыт: \", my_file.mode) # 'w'"
   ]
  },
  {
   "cell_type": "markdown",
   "metadata": {},
   "source": [
    "\n",
    "\n",
    "## Закрытие файла\n"
   ]
  },
  {
   "cell_type": "code",
   "execution_count": null,
   "metadata": {},
   "outputs": [],
   "source": [
    "my_file.closed"
   ]
  },
  {
   "cell_type": "markdown",
   "metadata": {},
   "source": [
    "\n",
    "\n",
    "\n",
    "## Закрытие файла\n"
   ]
  },
  {
   "cell_type": "code",
   "execution_count": null,
   "metadata": {},
   "outputs": [],
   "source": [
    "my_file.closed # False"
   ]
  },
  {
   "cell_type": "markdown",
   "metadata": {},
   "source": [
    "\n",
    "\n",
    "## Закрытие файла\n"
   ]
  },
  {
   "cell_type": "code",
   "execution_count": null,
   "metadata": {},
   "outputs": [],
   "source": [
    "my_file.close()\n",
    "\n",
    "my_file.closed # True"
   ]
  },
  {
   "cell_type": "markdown",
   "metadata": {},
   "source": [
    "\n",
    "## Закрытие файла\n",
    "Изменения в самом файле произойдут только после его закрытия!"
   ]
  },
  {
   "cell_type": "markdown",
   "metadata": {},
   "source": [
    "\n",
    "## Чтение файлов\n"
   ]
  },
  {
   "cell_type": "code",
   "execution_count": null,
   "metadata": {},
   "outputs": [],
   "source": [
    "my_file = open('./examples/example1', 'r')\n",
    "\n",
    "my_file.read(4)"
   ]
  },
  {
   "cell_type": "markdown",
   "metadata": {},
   "source": [
    "\n",
    "## Чтение файлов\n"
   ]
  },
  {
   "cell_type": "code",
   "execution_count": null,
   "metadata": {},
   "outputs": [],
   "source": [
    "my_file = open('./examples/example1', 'r')\n",
    "\n",
    "my_file.read(4) # 'Hey!'"
   ]
  },
  {
   "cell_type": "markdown",
   "metadata": {},
   "source": [
    "\n",
    "## Чтение файлов\n"
   ]
  },
  {
   "cell_type": "code",
   "execution_count": null,
   "metadata": {},
   "outputs": [],
   "source": [
    "my_file = open('./examples/example1', 'r')\n",
    "\n",
    "# Читаем строку\n",
    "my_file.readline()"
   ]
  },
  {
   "cell_type": "markdown",
   "metadata": {},
   "source": [
    "\n",
    "## Чтение файлов\n"
   ]
  },
  {
   "cell_type": "code",
   "execution_count": null,
   "metadata": {},
   "outputs": [],
   "source": [
    "my_file = open('./examples/example1', 'r')\n",
    "\n",
    "# Читаем строку\n",
    "my_file.readline() # 'Hey! What's up?!'"
   ]
  },
  {
   "cell_type": "markdown",
   "metadata": {},
   "source": [
    "\n",
    "## Чтение файлов\n"
   ]
  },
  {
   "cell_type": "code",
   "execution_count": null,
   "metadata": {},
   "outputs": [],
   "source": [
    "my_file = open('./examples/example1', 'r')\n",
    "\n",
    "# Читаем строки\n",
    "my_file.readlines()"
   ]
  },
  {
   "cell_type": "markdown",
   "metadata": {},
   "source": [
    "\n",
    "\n",
    "## Чтение файлов\n"
   ]
  },
  {
   "cell_type": "code",
   "execution_count": null,
   "metadata": {},
   "outputs": [],
   "source": [
    "my_file = open('./examples/example1', 'r')\n",
    "\n",
    "# Читаем строки\n",
    "my_file.readlines()\n",
    " #[\"Hey! What's up?!\\n\", '\\n', 'Hey! Hey! What do you say?!\\n']"
   ]
  },
  {
   "cell_type": "markdown",
   "metadata": {},
   "source": [
    "\n",
    "## Запись в файл\n"
   ]
  },
  {
   "cell_type": "code",
   "execution_count": null,
   "metadata": {},
   "outputs": [],
   "source": [
    "handle = open('./examples/example2'. 'w')\n",
    "\n",
    "handle.write('habrahabr')"
   ]
  },
  {
   "cell_type": "markdown",
   "metadata": {},
   "source": [
    "\n",
    "\n",
    "## Запись в файл\n"
   ]
  },
  {
   "cell_type": "code",
   "execution_count": null,
   "metadata": {},
   "outputs": [],
   "source": [
    "handle = open('./examples/example2'. 'w')\n",
    "\n",
    "handle.write('habrahabr')\n",
    "# ???"
   ]
  },
  {
   "cell_type": "markdown",
   "metadata": {},
   "source": [
    "\n",
    "\n",
    "## Запись в файл\n"
   ]
  },
  {
   "cell_type": "code",
   "execution_count": null,
   "metadata": {},
   "outputs": [],
   "source": [
    "handle = open('./examples/example2'. 'w')\n",
    "\n",
    "handle.write('habrahabr')\n",
    "# 9"
   ]
  },
  {
   "cell_type": "markdown",
   "metadata": {},
   "source": [
    "\n",
    "\n",
    "## Запись в файл\n"
   ]
  },
  {
   "cell_type": "code",
   "execution_count": null,
   "metadata": {},
   "outputs": [],
   "source": [
    "handle = open('./examples/example2'. 'w')\n",
    "\n",
    "handle.writelines(['habrahabr', 'super good'])"
   ]
  },
  {
   "cell_type": "markdown",
   "metadata": {},
   "source": [
    "\n",
    "## Полезные методы работы с файлами\n"
   ]
  },
  {
   "cell_type": "code",
   "execution_count": null,
   "metadata": {},
   "outputs": [],
   "source": [
    "handle = open('./examples/example3', 'w')\n",
    "\n",
    "handle.tell()"
   ]
  },
  {
   "cell_type": "markdown",
   "metadata": {},
   "source": [
    "\n",
    "## Полезные методы работы с файлами\n"
   ]
  },
  {
   "cell_type": "code",
   "execution_count": null,
   "metadata": {},
   "outputs": [],
   "source": [
    "handle = open('./examples/example3', 'w')\n",
    "\n",
    "handle.tell() # 0"
   ]
  },
  {
   "cell_type": "markdown",
   "metadata": {},
   "source": [
    "\n",
    "## Полезные методы работы с файлами\n"
   ]
  },
  {
   "cell_type": "code",
   "execution_count": null,
   "metadata": {},
   "outputs": [],
   "source": [
    "handle.seek(8)\n",
    "\n",
    "handle.tell()"
   ]
  },
  {
   "cell_type": "markdown",
   "metadata": {},
   "source": [
    "\n",
    "## Полезные методы работы с файлами\n"
   ]
  },
  {
   "cell_type": "code",
   "execution_count": null,
   "metadata": {},
   "outputs": [],
   "source": [
    "handle.seek(8)\n",
    "\n",
    "handle.tell() # 8"
   ]
  },
  {
   "cell_type": "markdown",
   "metadata": {},
   "source": [
    "\n",
    "\n",
    "## Полезные методы работы с файлами\n"
   ]
  },
  {
   "cell_type": "code",
   "execution_count": null,
   "metadata": {},
   "outputs": [],
   "source": [
    "handle.write('abc')\n",
    "\n",
    "handle.tell() # ???"
   ]
  },
  {
   "cell_type": "markdown",
   "metadata": {},
   "source": [
    "\n",
    "\n",
    "## Полезные методы работы с файлами\n"
   ]
  },
  {
   "cell_type": "code",
   "execution_count": null,
   "metadata": {},
   "outputs": [],
   "source": [
    "handle.write('abc')\n",
    "\n",
    "handle.tell() # 11"
   ]
  },
  {
   "cell_type": "markdown",
   "metadata": {},
   "source": [
    "\n",
    "## Потоки ввода/вывода"
   ]
  },
  {
   "cell_type": "markdown",
   "metadata": {},
   "source": [
    "\n",
    "## Потоки ввода/вывода\n",
    "- "
   ]
  },
  {
   "cell_type": "markdown",
   "metadata": {},
   "source": [
    "```sys.stdin"
   ]
  },
  {
   "cell_type": "markdown",
   "metadata": {},
   "source": [
    "```"
   ]
  },
  {
   "cell_type": "markdown",
   "metadata": {},
   "source": [
    "\n",
    "## Потоки ввода/вывода\n",
    "- "
   ]
  },
  {
   "cell_type": "code",
   "execution_count": null,
   "metadata": {},
   "outputs": [],
   "source": [
    "\n",
    "```Python\n",
    "input()"
   ]
  },
  {
   "cell_type": "markdown",
   "metadata": {},
   "source": [
    "\n",
    "## Потоки ввода/вывода\n",
    "- "
   ]
  },
  {
   "cell_type": "markdown",
   "metadata": {},
   "source": [
    "```sys.stdout"
   ]
  },
  {
   "cell_type": "markdown",
   "metadata": {},
   "source": [
    "```"
   ]
  },
  {
   "cell_type": "markdown",
   "metadata": {},
   "source": [
    "\n",
    "\n",
    "## Потоки ввода/вывода\n",
    "- "
   ]
  },
  {
   "cell_type": "markdown",
   "metadata": {},
   "source": [
    "```sys.stdout"
   ]
  },
  {
   "cell_type": "markdown",
   "metadata": {},
   "source": [
    "``` и "
   ]
  },
  {
   "cell_type": "code",
   "execution_count": null,
   "metadata": {},
   "outputs": [],
   "source": [
    "\n",
    "```Python\n",
    "print()"
   ]
  },
  {
   "cell_type": "markdown",
   "metadata": {},
   "source": [
    "\n",
    "\n",
    "## Еще о функции "
   ]
  },
  {
   "cell_type": "code",
   "execution_count": null,
   "metadata": {},
   "outputs": [],
   "source": [
    "```Python\n",
    "print('abc', file=handle)"
   ]
  },
  {
   "cell_type": "markdown",
   "metadata": {},
   "source": [
    "\n",
    "\n",
    "## Библиотека io\n"
   ]
  },
  {
   "cell_type": "code",
   "execution_count": null,
   "metadata": {},
   "outputs": [],
   "source": [
    "import io\n",
    "handle = io.StringIO(\"foo\\n\\bar\")\n",
    "handle.readline() #'foo\\n'\n",
    "\n",
    "handle.write(\"boo\")\n",
    "handle.getvalue() # 'foo\\nboo'"
   ]
  },
  {
   "cell_type": "markdown",
   "metadata": {},
   "source": [
    "\n",
    "## C файлами все!\n",
    "Ура!"
   ]
  },
  {
   "cell_type": "markdown",
   "metadata": {},
   "source": [
    "\n",
    "## Анекдот\n",
    "![Петросян](./images/petro.jpg)"
   ]
  },
  {
   "cell_type": "markdown",
   "metadata": {},
   "source": [
    "\n",
    "## Анекдот\n",
    "заходит как-то тестировщик в бар\n",
    "\n",
    "забегает в бар\n",
    "\n",
    "пролезает в бар\n",
    "\n",
    "прыгает в бар"
   ]
  },
  {
   "cell_type": "markdown",
   "metadata": {},
   "source": [
    "\n",
    "\n",
    "## Анекдот\n",
    "заказывает себе кружку пива\n",
    "\n",
    "два кружки пива\n",
    "\n",
    "-1 кружку пива\n",
    "\n",
    "9999999 кружек пива\n",
    "\n",
    "ававав кружек пива"
   ]
  },
  {
   "cell_type": "markdown",
   "metadata": {},
   "source": [
    "\n",
    "\n",
    "## К чему анекдот?\n"
   ]
  },
  {
   "cell_type": "code",
   "execution_count": null,
   "metadata": {},
   "outputs": [],
   "source": [
    "number = int(input())"
   ]
  },
  {
   "cell_type": "markdown",
   "metadata": {},
   "source": [
    "\n",
    "\n",
    "## К чему анекдот?\n"
   ]
  },
  {
   "cell_type": "code",
   "execution_count": null,
   "metadata": {},
   "outputs": [],
   "source": [
    "number = int(input('abc'))\n",
    "# ???"
   ]
  },
  {
   "cell_type": "markdown",
   "metadata": {},
   "source": [
    "\n",
    "## К чему анекдот?\n"
   ]
  },
  {
   "cell_type": "code",
   "execution_count": null,
   "metadata": {},
   "outputs": [],
   "source": [
    "number = int(input('abc'))\n",
    "# ValueError: invalid literal for int() with base 10: ''"
   ]
  },
  {
   "cell_type": "markdown",
   "metadata": {},
   "source": [
    "\n",
    "## Исключения"
   ]
  },
  {
   "cell_type": "markdown",
   "metadata": {},
   "source": [
    "\n",
    "## Исключения\n",
    "![Exceptions](./images/exceptions.png)"
   ]
  },
  {
   "cell_type": "markdown",
   "metadata": {},
   "source": [
    "\n",
    "\n",
    "## Исключения\n"
   ]
  },
  {
   "cell_type": "code",
   "execution_count": null,
   "metadata": {},
   "outputs": [],
   "source": [
    "try:\n",
    "  number = int(input('abc'))\n",
    "except ValueError:\n",
    "  print ('Пожалуйста, не ломай мой код! Введи число')"
   ]
  },
  {
   "cell_type": "markdown",
   "metadata": {},
   "source": [
    "\n",
    "\n",
    "## Исключения\n"
   ]
  },
  {
   "cell_type": "code",
   "execution_count": null,
   "metadata": {},
   "outputs": [],
   "source": [
    "try:\n",
    "  # какой-то код\n",
    "except Excetion:\n",
    "  # как-то обрабатываем"
   ]
  },
  {
   "cell_type": "markdown",
   "metadata": {},
   "source": [
    "\n",
    "\n",
    "## Исключения\n"
   ]
  },
  {
   "cell_type": "code",
   "execution_count": null,
   "metadata": {},
   "outputs": [],
   "source": [
    "try:\n",
    "  # какой-то код\n",
    "except Excetion: # =((((\n",
    "  # как-то обрабатываем"
   ]
  },
  {
   "cell_type": "markdown",
   "metadata": {},
   "source": [
    "\n",
    "\n",
    "## НИКОГДА ТАК НЕ ДЕЛАЙТЕ\n"
   ]
  },
  {
   "cell_type": "code",
   "execution_count": null,
   "metadata": {},
   "outputs": [],
   "source": [
    "try:\n",
    "  # какой-то код\n",
    "except Excetion: # =((((\n",
    "  # как-то обрабатываем"
   ]
  },
  {
   "cell_type": "markdown",
   "metadata": {},
   "source": [
    "\n",
    "## Почему?"
   ]
  },
  {
   "cell_type": "markdown",
   "metadata": {},
   "source": [
    "\n",
    "## Почему?\n",
    "Сейчас Егор расскажет анекдот"
   ]
  },
  {
   "cell_type": "markdown",
   "metadata": {},
   "source": [
    "\n",
    "## Что еще делать с исключениями?\n"
   ]
  },
  {
   "cell_type": "code",
   "execution_count": null,
   "metadata": {},
   "outputs": [],
   "source": [
    "try:\n",
    "  vk_client.get_friends(online=true)\n",
    "except Exception as exception:\n",
    "  print ('Что-то страшное случилось, вот проблема: {e}'.format(e=exception))"
   ]
  },
  {
   "cell_type": "markdown",
   "metadata": {},
   "source": [
    "\n",
    "## Цепочки исключений\n"
   ]
  },
  {
   "cell_type": "code",
   "execution_count": null,
   "metadata": {},
   "outputs": [],
   "source": [
    "try:\n",
    "  # тут что-то происходит\n",
    "except ValueError:\n",
    "  # как-то обрабатываем\n",
    "except KeyError:\n",
    "  # как-то обрабатываем\n",
    "...\n",
    "finally:\n",
    "  # так называемый \"Код уборки\""
   ]
  },
  {
   "cell_type": "markdown",
   "metadata": {},
   "source": [
    "\n",
    "## Полезные советы"
   ]
  },
  {
   "cell_type": "markdown",
   "metadata": {},
   "source": [
    "\n",
    "\n",
    "## Полезные советы\n",
    "- покрывайте только неболшие участки кода"
   ]
  },
  {
   "cell_type": "markdown",
   "metadata": {},
   "source": [
    "\n",
    "\n",
    "## Полезные советы\n",
    "- покрывайте только неболшие участки кода\n",
    "- не перехватывайте общие исключения"
   ]
  },
  {
   "cell_type": "markdown",
   "metadata": {},
   "source": [
    "\n",
    "\n",
    "## Полезные советы\n",
    "- покрывайте только неболшие участки кода\n",
    "- не перехватывайте общие исключения\n",
    "- можно выкидывать свои исключения"
   ]
  },
  {
   "cell_type": "markdown",
   "metadata": {},
   "source": [
    "\n",
    "\n",
    "## Полезные советы\n",
    "- покрывайте только неболшие участки кода\n",
    "- не перехватывайте общие исключения\n",
    "- можно выкидывать свои исключения\n",
    "\n"
   ]
  },
  {
   "cell_type": "code",
   "execution_count": null,
   "metadata": {},
   "outputs": [],
   "source": [
    "class MyException(Exception): pass\n",
    "\n",
    "raise MyException('Мое исключение')"
   ]
  },
  {
   "cell_type": "markdown",
   "metadata": {},
   "source": [
    "\n",
    "\n",
    "## Полезные советы\n",
    "- покрывайте только неболшие участки кода\n",
    "- не перехватывайте общие исключения\n",
    "- можно выкидывать свои исключения\n",
    "- ???\n",
    "- PROFIT"
   ]
  },
  {
   "cell_type": "markdown",
   "metadata": {},
   "source": [
    "\n",
    "\n",
    "## Оператор with\n",
    "Порой мы забываем закрыть файл"
   ]
  },
  {
   "cell_type": "markdown",
   "metadata": {},
   "source": [
    "\n",
    "\n",
    "\n",
    "## Оператор with\n",
    "Порой мы забываем закрыть файл\n",
    "\n",
    "Все мы люди"
   ]
  },
  {
   "cell_type": "markdown",
   "metadata": {},
   "source": [
    "\n",
    "\n",
    "## Оператор with\n"
   ]
  },
  {
   "cell_type": "code",
   "execution_count": null,
   "metadata": {},
   "outputs": [],
   "source": [
    "\"with\" expression [\"as\" target] (\",\" expression [\"as\" target])* \":\"\n",
    "    suite"
   ]
  },
  {
   "cell_type": "markdown",
   "metadata": {},
   "source": [
    "\n",
    "\n",
    "## Удобно работать с файлами\n"
   ]
  },
  {
   "cell_type": "code",
   "execution_count": null,
   "metadata": {},
   "outputs": [],
   "source": [
    "with open('newfile.txt', 'w', encoding='utf-8') as g:\n",
    "    d = int(input())\n",
    "    print('1 / {} = {}'.format(d, 1 / d), file=g)"
   ]
  },
  {
   "cell_type": "markdown",
   "metadata": {},
   "source": [
    "\n",
    "\n",
    "## Что такое хороший код?"
   ]
  },
  {
   "cell_type": "markdown",
   "metadata": {},
   "source": [
    "\n",
    "\n",
    "## Что такое хороший код?\n",
    "- правильно работает"
   ]
  },
  {
   "cell_type": "markdown",
   "metadata": {},
   "source": [
    "\n",
    "\n",
    "## Что такое хороший код?\n",
    "- правильно работает\n",
    "- безопасный"
   ]
  },
  {
   "cell_type": "markdown",
   "metadata": {},
   "source": [
    "\n",
    "\n",
    "## Что такое хороший код?\n",
    "- правильно работает\n",
    "- безопасный\n",
    "- понятен"
   ]
  },
  {
   "cell_type": "markdown",
   "metadata": {},
   "source": [
    "\n",
    "\n",
    "\n",
    "## Что такое хороший код?\n",
    "- правильно работает\n",
    "- безопасный\n",
    "- понятен\n",
    "- протестирован"
   ]
  },
  {
   "cell_type": "markdown",
   "metadata": {},
   "source": [
    "\n",
    "\n",
    "## Что такое хороший код?\n",
    "- правильно работает\n",
    "- безопасный\n",
    "- понятен\n",
    "- протестирован\n",
    "- соответствуен общим стандартам"
   ]
  },
  {
   "cell_type": "markdown",
   "metadata": {},
   "source": [
    "\n",
    "\n",
    "## Общие стандарты"
   ]
  },
  {
   "cell_type": "markdown",
   "metadata": {},
   "source": [
    "\n",
    "\n",
    "## Общие стандарты\n",
    "[PEP8](https://pythonworld.ru/osnovy/pep-8-rukovodstvo-po-napisaniyu-koda-na-python.html)"
   ]
  },
  {
   "cell_type": "markdown",
   "metadata": {},
   "source": [
    "\n",
    "\n",
    "## Общие стандарты\n",
    "- табы или пробелы?"
   ]
  },
  {
   "cell_type": "markdown",
   "metadata": {},
   "source": [
    "\n",
    "\n",
    "## Общие стандарты\n",
    "- 4 пробела"
   ]
  },
  {
   "cell_type": "markdown",
   "metadata": {},
   "source": [
    "\n",
    "\n",
    "\n",
    "## Общие стандарты\n",
    "- 4 пробела\n",
    "- Максимальная длина строки?"
   ]
  },
  {
   "cell_type": "markdown",
   "metadata": {},
   "source": [
    "\n",
    "\n",
    "\n",
    "## Общие стандарты\n",
    "- 4 пробела\n",
    "- Максимальная длина строки = 80 символов"
   ]
  },
  {
   "cell_type": "markdown",
   "metadata": {},
   "source": [
    "\n",
    "\n",
    "\n",
    "## Общие стандарты\n",
    "- 4 пробела\n",
    "- Максимальная длина строки = 80 символов"
   ]
  },
  {
   "cell_type": "markdown",
   "metadata": {},
   "source": [
    "\n",
    "\n",
    "## Пустые строки\n",
    "- две между top-level function\n",
    "- одна между методами класса\n",
    "- внутри функции можно отделять одной строкой логические блоки"
   ]
  },
  {
   "cell_type": "markdown",
   "metadata": {},
   "source": [
    "\n",
    "\n",
    "## Стиль именования\n",
    "- "
   ]
  },
  {
   "cell_type": "markdown",
   "metadata": {},
   "source": [
    "```snake_case"
   ]
  },
  {
   "cell_type": "markdown",
   "metadata": {},
   "source": [
    "``` - для переменных и функций\n",
    "- "
   ]
  },
  {
   "cell_type": "markdown",
   "metadata": {},
   "source": [
    "```CamelCase"
   ]
  },
  {
   "cell_type": "markdown",
   "metadata": {},
   "source": [
    "``` - для классов\n",
    "- "
   ]
  },
  {
   "cell_type": "markdown",
   "metadata": {},
   "source": [
    "```UPPER_TEXT_WITH_UNDERSCORE"
   ]
  },
  {
   "cell_type": "markdown",
   "metadata": {},
   "source": [
    "``` - для глобальных констант"
   ]
  },
  {
   "cell_type": "markdown",
   "metadata": {},
   "source": [
    "\n",
    "\n",
    "## Стиль наименования\n",
    "- название функции - глагол (что делает функция?)\n",
    "- название переменных существительное\n",
    "- название переменных аля списки, словари и прочее - множественное число"
   ]
  },
  {
   "cell_type": "markdown",
   "metadata": {},
   "source": [
    "\n",
    "\n",
    "## Все!\n",
    "![Вот и все](./images/thatsall.jpg)"
   ]
  }
 ],
 "metadata": {},
 "nbformat": 4,
 "nbformat_minor": 2
}
