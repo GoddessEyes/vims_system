{
 "cells": [
  {
   "cell_type": "markdown",
   "metadata": {},
   "source": [
    "# Django\n"
   ]
  },
  {
   "cell_type": "markdown",
   "metadata": {},
   "source": [
    "\n",
    "## Django Unchained\n",
    "![Django](./images/django.jpg)"
   ]
  },
  {
   "cell_type": "markdown",
   "metadata": {},
   "source": [
    "\n",
    "## Django ~~Unchained~~\n",
    "![Petro](./images/petro.jpg)"
   ]
  },
  {
   "cell_type": "markdown",
   "metadata": {},
   "source": [
    "\n",
    "## Django\n",
    "- Фреймворк"
   ]
  },
  {
   "cell_type": "markdown",
   "metadata": {},
   "source": [
    "\n",
    "## Django\n",
    "- Фреймворк\n",
    "- MVC"
   ]
  },
  {
   "cell_type": "markdown",
   "metadata": {},
   "source": [
    "\n",
    "## Django\n",
    "- Фреймворк\n",
    "- MVC\n",
    "- Python"
   ]
  },
  {
   "cell_type": "markdown",
   "metadata": {},
   "source": [
    "\n",
    "## Django\n",
    "- **Фреймворк**\n",
    "- MVC\n",
    "- Python"
   ]
  },
  {
   "cell_type": "markdown",
   "metadata": {},
   "source": [
    "\n",
    "## Фреймворк\n",
    "- Фреймворк != Библиотека"
   ]
  },
  {
   "cell_type": "markdown",
   "metadata": {},
   "source": [
    "\n",
    "## Фреймворк\n",
    "- Библиотека -- набор функций\n",
    "- Фреймворк -- ~~какрас~~ каркас, задающий, кроме функций, правила организации кода"
   ]
  },
  {
   "cell_type": "markdown",
   "metadata": {},
   "source": [
    "\n",
    "## Фреймворк\n",
    "«Фреймворк» определяется как множество конкретных и абстрактных классов, а также определений способов их взаимоотношения."
   ]
  },
  {
   "cell_type": "markdown",
   "metadata": {},
   "source": [
    "\n",
    "## Известные фреймворки\n",
    "- PHP (Yii, Zend, Symfony)\n",
    "- JS (Node.JS, Angular, Backbone.js)\n",
    "- HTML/CSS (Bootstrap, Foundation)\n",
    "- Ruby (Ruby on Rails)\n",
    "- C# (.NET Framework)\n",
    "- C++ (Twisted Framework)\n",
    "- Python (Django, Flask, Tornado)"
   ]
  },
  {
   "cell_type": "markdown",
   "metadata": {},
   "source": [
    "\n",
    "## Три стула\n",
    "- написание исходного кода с нуля\n",
    "- использование фреймворков\n",
    "- установка готовой CMS"
   ]
  },
  {
   "cell_type": "markdown",
   "metadata": {},
   "source": [
    "\n",
    "## Важно\n",
    "[Фреймворк - не серебрянная пуля](https://habrahabr.ru/post/253297/)"
   ]
  },
  {
   "cell_type": "markdown",
   "metadata": {},
   "source": [
    "\n",
    "## Django\n",
    "- Фреймворк\n",
    "- **MVC**\n",
    "- Python"
   ]
  },
  {
   "cell_type": "markdown",
   "metadata": {},
   "source": [
    "\n",
    "## MVC\n",
    "- Model\n",
    "- View\n",
    "- Controller"
   ]
  },
  {
   "cell_type": "markdown",
   "metadata": {},
   "source": [
    "\n",
    "## MVC (по-русски)\n",
    "- Модель\n",
    "- Представление\n",
    "- Контроллер"
   ]
  },
  {
   "cell_type": "markdown",
   "metadata": {},
   "source": [
    "\n",
    "## MVC (по-человечески)\n",
    "- Данные и методы работы с ними\n",
    "- Отображение информации\n",
    "- Связь между данными и отображением"
   ]
  },
  {
   "cell_type": "markdown",
   "metadata": {},
   "source": [
    "\n",
    "## MVC (для самых маленьких)\n",
    "![mvc](./images/mvc.png)"
   ]
  },
  {
   "cell_type": "markdown",
   "metadata": {},
   "source": [
    "\n",
    "## MVC в вебе\n",
    "- БД или ORM\n",
    "- HTML/CSS\n",
    "- Python/Java/PHP/C#"
   ]
  },
  {
   "cell_type": "markdown",
   "metadata": {},
   "source": [
    "\n",
    "## MVC в вебе для нас\n",
    "- **ORM**\n",
    "- HTML/CSS\n",
    "- Python"
   ]
  },
  {
   "cell_type": "markdown",
   "metadata": {},
   "source": [
    "\n",
    "## ORM\n"
   ]
  },
  {
   "cell_type": "code",
   "execution_count": null,
   "metadata": {},
   "outputs": [],
   "source": [
    "SELECT * FROM users WHERE login='egpro';"
   ]
  },
  {
   "cell_type": "markdown",
   "metadata": {},
   "source": [
    "\n",
    "## ORM\n"
   ]
  },
  {
   "cell_type": "code",
   "execution_count": null,
   "metadata": {},
   "outputs": [],
   "source": [
    "engine.execute (\n",
    "  \"SELECT * FROM users WHERE login='egpro';\"\n",
    ")"
   ]
  },
  {
   "cell_type": "markdown",
   "metadata": {},
   "source": [
    "\n",
    "## ORM\n"
   ]
  },
  {
   "cell_type": "code",
   "execution_count": null,
   "metadata": {},
   "outputs": [],
   "source": [
    "users = engine.execute (\n",
    "  \"SELECT * FROM users WHERE login='egpro';\"\n",
    ").fetchall()"
   ]
  },
  {
   "cell_type": "markdown",
   "metadata": {},
   "source": [
    "\n",
    "## ORM\n"
   ]
  },
  {
   "cell_type": "code",
   "execution_count": null,
   "metadata": {},
   "outputs": [],
   "source": [
    "def get_users(login):\n",
    "    return engine.execute (\n",
    "        \"SELECT * FROM users WHERE login='{login}';\".format(login=login)\n",
    "    ).fetchall()"
   ]
  },
  {
   "cell_type": "markdown",
   "metadata": {},
   "source": [
    "\n",
    "## ORM\n"
   ]
  },
  {
   "cell_type": "code",
   "execution_count": null,
   "metadata": {},
   "outputs": [],
   "source": [
    "def get_users(login, only_active=False):\n",
    "    query = \"SELECT * FROM users WHERE login=?\"\n",
    "    if only_active:\n",
    "        query += \" AND is_active\"\n",
    "    return engine.execute(query, login).fetchall()"
   ]
  },
  {
   "cell_type": "markdown",
   "metadata": {},
   "source": [
    "\n",
    "## ORM\n"
   ]
  },
  {
   "cell_type": "code",
   "execution_count": null,
   "metadata": {},
   "outputs": [],
   "source": [
    "def get_users(login, only_active=False):\n",
    "    users = User.filter(login=login)\n",
    "    if only_active:\n",
    "        users = users.active\n",
    "    return users"
   ]
  },
  {
   "cell_type": "markdown",
   "metadata": {},
   "source": [
    "\n",
    "## Django\n",
    "- Фреймворк\n",
    "- MVC\n",
    "- Python"
   ]
  },
  {
   "cell_type": "markdown",
   "metadata": {},
   "source": [
    "\n",
    "## Django\n",
    "- Open-source\n",
    "- Отличная документация\n",
    "- Django ORM\n",
    "- MTV\n",
    "- Генерируемая админка\n",
    "- Высокая скорость работы\n",
    "- PYTHON ONE LOVE <3"
   ]
  },
  {
   "cell_type": "markdown",
   "metadata": {},
   "source": [
    "\n",
    "## Не без минусов\n",
    "- Монолитный\n",
    "- Базируется на Django ORM"
   ]
  },
  {
   "cell_type": "markdown",
   "metadata": {},
   "source": [
    "\n",
    "## Не без минусов\n",
    "- Монолитный\n",
    "- Базируется на Django ORM\n",
    "- Мы очень любим Django, поэтому ругать не будем"
   ]
  },
  {
   "cell_type": "markdown",
   "metadata": {},
   "source": [
    "\n",
    "## Django в картинках\n",
    "!![django_scheme](./images/diagram_01.png)"
   ]
  },
  {
   "cell_type": "markdown",
   "metadata": {},
   "source": [
    "\n",
    "## А теперь потрогаем Django\n",
    "![django](./images/django-unchained.jpg)"
   ]
  },
  {
   "cell_type": "markdown",
   "metadata": {},
   "source": [
    "\n",
    "\n",
    "## Белый фон"
   ]
  },
  {
   "cell_type": "markdown",
   "metadata": {},
   "source": [
    "\n",
    "\n",
    "## Кстати да, это карта\n",
    "![fg](./images/fg.png)"
   ]
  }
 ],
 "metadata": {},
 "nbformat": 4,
 "nbformat_minor": 2
}
