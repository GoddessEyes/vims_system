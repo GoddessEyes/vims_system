{
 "cells": [
  {
   "cell_type": "markdown",
   "metadata": {},
   "source": [
    "# Как устроен интернет\n",
    "\n"
   ]
  },
  {
   "cell_type": "markdown",
   "metadata": {},
   "source": [
    "\n",
    "## Как устроен интернет"
   ]
  },
  {
   "cell_type": "markdown",
   "metadata": {},
   "source": [
    "\n",
    "## Что такое интернет?"
   ]
  },
  {
   "cell_type": "markdown",
   "metadata": {},
   "source": [
    "\n",
    "## Простая сеть\n",
    "![Простая сеть](./images/1.png)"
   ]
  },
  {
   "cell_type": "markdown",
   "metadata": {},
   "source": [
    "\n",
    "## Больше компов\n",
    "![Много компов](./images/2.png)"
   ]
  },
  {
   "cell_type": "markdown",
   "metadata": {},
   "source": [
    "\n",
    "## Маршрутизатор\n",
    "![Маршрутизатор](./images/3.png)"
   ]
  },
  {
   "cell_type": "markdown",
   "metadata": {},
   "source": [
    "\n",
    "## Подсети\n",
    "![Подсети](./images/4.png)"
   ]
  },
  {
   "cell_type": "markdown",
   "metadata": {},
   "source": [
    "\n",
    "## Подсети\n",
    "![Подсеть подсетей](./images/5.png)"
   ]
  },
  {
   "cell_type": "markdown",
   "metadata": {},
   "source": [
    "\n",
    "## Модем\n",
    "![Много компов](./images/6.png)"
   ]
  },
  {
   "cell_type": "markdown",
   "metadata": {},
   "source": [
    "\n",
    "## Провайдер\n",
    "![Много компов](./images/7.png)"
   ]
  },
  {
   "cell_type": "markdown",
   "metadata": {},
   "source": [
    "\n",
    "## Вывод\n",
    "Интернет - это способ подключить компьютеры в единую сеть и убедиться, что даже\n",
    "при серьезных сбоях, они все равно найдут способ связаться друг с другом."
   ]
  },
  {
   "cell_type": "markdown",
   "metadata": {},
   "source": [
    "\n",
    "## Интернет и веб\n",
    "- Интернет —  это инфраструктура"
   ]
  },
  {
   "cell_type": "markdown",
   "metadata": {},
   "source": [
    "\n",
    "## Интернет и веб\n",
    "- Интернет —  это инфраструктура\n",
    "- Веб — это сервис, построенный на основе этой инфраструктуры"
   ]
  },
  {
   "cell_type": "markdown",
   "metadata": {},
   "source": [
    "\n",
    "\n",
    "## Другие сервисы\n",
    "-Кроме Веба есть и другие сервисы, построенные на базе Интернета. Например, электронная почта или IRC."
   ]
  },
  {
   "cell_type": "markdown",
   "metadata": {},
   "source": [
    "\n",
    "## Поиск компьютера\n",
    "![Много компов](./images/7.png)"
   ]
  },
  {
   "cell_type": "markdown",
   "metadata": {},
   "source": [
    "\n",
    "\n",
    "## IP\n",
    "- IPv4"
   ]
  },
  {
   "cell_type": "markdown",
   "metadata": {},
   "source": [
    "\n",
    "\n",
    "## IP\n",
    "- IPv4 (173.194.121.32)\n",
    "- IPv6 (2027:0da8:8b73:0000:0000:8a2e:0370:1337)"
   ]
  },
  {
   "cell_type": "markdown",
   "metadata": {},
   "source": [
    "\n",
    "\n",
    "## IP\n",
    "Удобно"
   ]
  },
  {
   "cell_type": "markdown",
   "metadata": {},
   "source": [
    "\n",
    "\n",
    "## IP\n",
    "Удобно\n",
    "\n",
    "Но нечитаемо."
   ]
  },
  {
   "cell_type": "markdown",
   "metadata": {},
   "source": [
    "\n",
    "\n",
    "\n",
    "## IP\n",
    "Удобно\n",
    "\n",
    "Но нечитаемо.\n",
    "\n",
    "Как решить?"
   ]
  },
  {
   "cell_type": "markdown",
   "metadata": {},
   "source": [
    "\n",
    "\n",
    "## Доменные имена\n",
    "![Домены](./images/8.png)"
   ]
  },
  {
   "cell_type": "markdown",
   "metadata": {},
   "source": [
    "\n",
    "\n",
    "## Структура доменного имени\n",
    "![Доменное имя](./images/9.png)"
   ]
  },
  {
   "cell_type": "markdown",
   "metadata": {},
   "source": [
    "\n",
    "\n",
    "## Структура доменного имени\n",
    "- TLD\n",
    "- Домены"
   ]
  },
  {
   "cell_type": "markdown",
   "metadata": {},
   "source": [
    "\n",
    "\n",
    "## Кто стоит за этим?\n",
    "![DNS](./images/10.png)"
   ]
  },
  {
   "cell_type": "markdown",
   "metadata": {},
   "source": [
    "\n",
    "\n",
    "## Вернемся к вебу"
   ]
  },
  {
   "cell_type": "markdown",
   "metadata": {},
   "source": [
    "\n",
    "\n",
    "## Клиенты и серверы\n",
    "![КлиентыСерверы](./images/11.png)"
   ]
  },
  {
   "cell_type": "markdown",
   "metadata": {},
   "source": [
    "\n",
    "\n",
    "## Архитектура веба\n",
    "- Интернет-подключение"
   ]
  },
  {
   "cell_type": "markdown",
   "metadata": {},
   "source": [
    "\n",
    "\n",
    "## Архитектура веба\n",
    "- Интернет-подключение\n",
    "- DNS"
   ]
  },
  {
   "cell_type": "markdown",
   "metadata": {},
   "source": [
    "\n",
    "\n",
    "## Архитектура веба\n",
    "- Интернет-подключение\n",
    "- DNS\n",
    "- TCP/IP"
   ]
  },
  {
   "cell_type": "markdown",
   "metadata": {},
   "source": [
    "\n",
    "\n",
    "## TCP\n",
    "![TCP](./images/13.png)\n",
    "\n",
    "- SYN - синхронизация номеров последовательности\n",
    "- ACK - поле «Номер подтверждения» задействовано"
   ]
  },
  {
   "cell_type": "markdown",
   "metadata": {},
   "source": [
    "\n",
    "\n",
    "## TCP\n",
    "![TCP2](./images/14.png)"
   ]
  },
  {
   "cell_type": "markdown",
   "metadata": {},
   "source": [
    "\n",
    "\n",
    "## Архитектура веба\n",
    "- Интернет-подключение\n",
    "- DNS\n",
    "- TCP/IP\n",
    "- HTTP"
   ]
  },
  {
   "cell_type": "markdown",
   "metadata": {},
   "source": [
    "\n",
    "\n",
    "## Архитектура веба\n",
    "- Интернет-подключение\n",
    "- DNS\n",
    "- TCP/IP\n",
    "- HTTP\n",
    "- Файлы компонентов"
   ]
  },
  {
   "cell_type": "markdown",
   "metadata": {},
   "source": [
    "\n",
    "\n",
    "## Архитектура веба-приложения\n",
    "![WEb](./images/12.png)"
   ]
  },
  {
   "cell_type": "markdown",
   "metadata": {},
   "source": [
    "\n",
    "\n",
    "## Что такое веб-сервер?"
   ]
  },
  {
   "cell_type": "markdown",
   "metadata": {},
   "source": [
    "\n",
    "\n",
    "## Что такое веб-сервер?\n",
    "- Это железка"
   ]
  },
  {
   "cell_type": "markdown",
   "metadata": {},
   "source": [
    "\n",
    "\n",
    "\n",
    "## Что такое веб-сервер?\n",
    "- Это железка\n",
    "- Это ПО"
   ]
  },
  {
   "cell_type": "markdown",
   "metadata": {},
   "source": [
    "\n",
    "\n",
    "## Веб-сервера\n",
    "- статические\n",
    "- динамические"
   ]
  },
  {
   "cell_type": "markdown",
   "metadata": {},
   "source": [
    "\n",
    "\n",
    "## Хороший сервак\n",
    "- всегда работает\n",
    "- стабильное подключение\n",
    "- статичный IP"
   ]
  },
  {
   "cell_type": "markdown",
   "metadata": {},
   "source": [
    "\n",
    "\n",
    "## Как общаться с сервером?\n",
    "Хочу получить страницу. Что сказать?"
   ]
  },
  {
   "cell_type": "markdown",
   "metadata": {},
   "source": [
    "\n",
    "\n",
    "## Как общаться с сервером?\n",
    "Хочу получить страницу. Что сказать?\n",
    "\n",
    "\"Привет! Хочу получить страницу!\""
   ]
  },
  {
   "cell_type": "markdown",
   "metadata": {},
   "source": [
    "\n",
    "\n",
    "## Как общаться с сервером?\n",
    "Хочу получить страницу. Что сказать?\n"
   ]
  },
  {
   "cell_type": "code",
   "execution_count": null,
   "metadata": {},
   "outputs": [],
   "source": [
    "GET / HTTP/1.1\n",
    "Host: www.yandex.ru"
   ]
  },
  {
   "cell_type": "markdown",
   "metadata": {},
   "source": [
    "\n",
    "\n",
    "## Как общаться с сервером?\n"
   ]
  },
  {
   "cell_type": "code",
   "execution_count": null,
   "metadata": {},
   "outputs": [],
   "source": [
    "GET / HTTP/1.1\n",
    "Host: www.yandex.ru"
   ]
  },
  {
   "cell_type": "markdown",
   "metadata": {},
   "source": [
    "Что это? Немецкий?"
   ]
  },
  {
   "cell_type": "markdown",
   "metadata": {},
   "source": [
    "\n",
    "\n",
    "## HTTP\n",
    "- HTTP - Hypertext Transfer Protocol"
   ]
  },
  {
   "cell_type": "markdown",
   "metadata": {},
   "source": [
    "\n",
    "\n",
    "## HTTP. Особенности\n",
    "- текстовый"
   ]
  },
  {
   "cell_type": "markdown",
   "metadata": {},
   "source": [
    "\n",
    "\n",
    "## HTTP. Особенности\n",
    "- текстовый\n",
    "- не хранит состояние"
   ]
  },
  {
   "cell_type": "markdown",
   "metadata": {},
   "source": [
    "\n",
    "\n",
    "## HTTP. Особенности\n",
    "- текстовый\n",
    "- не хранит состояние\n",
    "- сообщение состоит из: стартовая строка, заголовок, тело запроса"
   ]
  },
  {
   "cell_type": "markdown",
   "metadata": {},
   "source": [
    "\n",
    "\n",
    "\n",
    "## HTTP\n"
   ]
  },
  {
   "cell_type": "code",
   "execution_count": null,
   "metadata": {},
   "outputs": [],
   "source": [
    "GET / HTTP/1.1\n",
    "Host: www.yandex.ru"
   ]
  },
  {
   "cell_type": "markdown",
   "metadata": {},
   "source": [
    "\n",
    "\n",
    "## HTTP-методы\n",
    "- GET\n",
    "- POST\n",
    "- PUT\n",
    "- HEAD\n",
    "- DELETE\n",
    "- И еще несколько"
   ]
  },
  {
   "cell_type": "markdown",
   "metadata": {},
   "source": [
    "\n",
    "\n",
    "## HTTP/1.1\n",
    "Версия протокола 1.1"
   ]
  },
  {
   "cell_type": "markdown",
   "metadata": {},
   "source": [
    "\n",
    "\n",
    "## Что за палка между?\n",
    "Что такое \"/\"?"
   ]
  },
  {
   "cell_type": "markdown",
   "metadata": {},
   "source": [
    "\n",
    "\n",
    "## URL\n",
    "URL - Uniform Resource Locator."
   ]
  },
  {
   "cell_type": "markdown",
   "metadata": {},
   "source": [
    "\n",
    "\n",
    "## URL\n",
    "http://www.example.com:80/path/to/myfile.html?key1=value1&key2=value2#SomewhereInTheDocument"
   ]
  },
  {
   "cell_type": "markdown",
   "metadata": {},
   "source": [
    "\n",
    "\n",
    "## О БОЖЕ, что это?"
   ]
  },
  {
   "cell_type": "markdown",
   "metadata": {},
   "source": [
    "\n",
    "\n",
    "## Разберем URL\n",
    "- http://\n",
    "- www.example.com\n",
    "- :80\n",
    "- /path/to/myfile.html\n",
    "- key1=value1 & key2=value2\n",
    "- #SomewhereInTheDocument"
   ]
  },
  {
   "cell_type": "markdown",
   "metadata": {},
   "source": [
    "\n",
    "\n",
    "## Абсолютные и относительные URL"
   ]
  },
  {
   "cell_type": "markdown",
   "metadata": {},
   "source": [
    "\n",
    "\n",
    "## Ответ сервера\n",
    "- Отправим запрос\n",
    "\n"
   ]
  },
  {
   "cell_type": "code",
   "execution_count": null,
   "metadata": {},
   "outputs": [],
   "source": [
    "GET / HTTP/1.1\n",
    "Host: www.opera.com\n",
    "Accept-Language: fr\n",
    "User-Agent: BrowseAndDream/1.0"
   ]
  },
  {
   "cell_type": "markdown",
   "metadata": {},
   "source": [
    "\n",
    "\n",
    "\n",
    "## Ответ сервера\n",
    "- Получим ответ\n",
    "\n"
   ]
  },
  {
   "cell_type": "code",
   "execution_count": null,
   "metadata": {},
   "outputs": [],
   "source": [
    "HTTP/1.1 200 OK\n",
    "Date: Fri, 24 Aug 2012, 13:56:44 GMT"
   ]
  },
  {
   "cell_type": "markdown",
   "metadata": {},
   "source": [
    "\n",
    "\n",
    "## Коды ответа\n",
    "- 1xx (Informational)\n",
    "- 2xx (Successful)\n",
    "- 3xx (Redirection)\n",
    "- 4xx (Client Error)\n",
    "- 5xx (Server Error)"
   ]
  },
  {
   "cell_type": "markdown",
   "metadata": {},
   "source": [
    "\n",
    "\n",
    "## Немного попрактикуемся"
   ]
  },
  {
   "cell_type": "markdown",
   "metadata": {},
   "source": [
    "\n",
    "\n",
    "## Библиотека Requests\n"
   ]
  },
  {
   "cell_type": "code",
   "execution_count": null,
   "metadata": {},
   "outputs": [],
   "source": [
    ">>> r = requests.get('https://api.github.com/user', auth=('user', 'pass'))\n",
    ">>> r.status_code\n",
    "200\n",
    ">>> r.headers['content-type']\n",
    "'application/json; charset=utf8'\n",
    ">>> r.encoding\n",
    "'utf-8'\n",
    ">>> r.text\n",
    "u'{\"type\":\"User\"...'\n",
    ">>> r.json()\n",
    "{u'private_gists': 419, u'total_private_repos': 77, ...}"
   ]
  }
 ],
 "metadata": {},
 "nbformat": 4,
 "nbformat_minor": 2
}
