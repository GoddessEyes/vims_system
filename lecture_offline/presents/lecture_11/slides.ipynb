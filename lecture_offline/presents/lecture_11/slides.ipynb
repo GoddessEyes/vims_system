{
 "cells": [
  {
   "cell_type": "markdown",
   "metadata": {},
   "source": [
    "# TV\n",
    "\n"
   ]
  },
  {
   "cell_type": "markdown",
   "metadata": {},
   "source": [
    "\n",
    "## TV"
   ]
  },
  {
   "cell_type": "markdown",
   "metadata": {},
   "source": [
    "\n",
    "## Templates - Views"
   ]
  },
  {
   "cell_type": "markdown",
   "metadata": {},
   "source": [
    "\n",
    "## Views\n",
    "- Это функции"
   ]
  },
  {
   "cell_type": "markdown",
   "metadata": {},
   "source": [
    "\n",
    "## Views\n",
    "- Это функции\n",
    "- Или классы"
   ]
  },
  {
   "cell_type": "markdown",
   "metadata": {},
   "source": [
    "\n",
    "## Views: суть\n",
    "- Принимают запрос - отдают ответ"
   ]
  },
  {
   "cell_type": "markdown",
   "metadata": {},
   "source": [
    "\n",
    "## Views: суть\n",
    "- Принимают запрос"
   ]
  },
  {
   "cell_type": "markdown",
   "metadata": {},
   "source": [
    "\n",
    "## Views: суть\n",
    "- Принимают запрос - КАК?!"
   ]
  },
  {
   "cell_type": "markdown",
   "metadata": {},
   "source": [
    "\n",
    "## Views\n",
    "![requests](./images/request.png)"
   ]
  },
  {
   "cell_type": "markdown",
   "metadata": {},
   "source": [
    "\n",
    "## Разбираемся\n",
    "- Куда пришел запрос и что происходит?"
   ]
  },
  {
   "cell_type": "markdown",
   "metadata": {},
   "source": [
    "\n",
    "## Data flow"
   ]
  },
  {
   "cell_type": "markdown",
   "metadata": {},
   "source": [
    "\n",
    "## Data flow\n",
    "- WSGI"
   ]
  },
  {
   "cell_type": "markdown",
   "metadata": {},
   "source": [
    "\n",
    "## Data flow\n",
    "- WSGI\n",
    "- Middleware"
   ]
  },
  {
   "cell_type": "markdown",
   "metadata": {},
   "source": [
    "\n",
    "## Data flow\n",
    "- WSGI\n",
    "- Middleware\n",
    "- View"
   ]
  },
  {
   "cell_type": "markdown",
   "metadata": {},
   "source": [
    "\n",
    "## WSGI\n",
    "Прослойка между веб-сервером и веб-приложением"
   ]
  },
  {
   "cell_type": "markdown",
   "metadata": {},
   "source": [
    "\n",
    "## Middleware\n",
    "- Цепочка фильтров"
   ]
  },
  {
   "cell_type": "markdown",
   "metadata": {},
   "source": [
    "\n",
    "## Middleware\n",
    "- Могут обрабатывать поток данных как в одном направлении, так и в обратном"
   ]
  },
  {
   "cell_type": "markdown",
   "metadata": {},
   "source": [
    "\n",
    "## Middleware\n",
    "- Это класс"
   ]
  },
  {
   "cell_type": "markdown",
   "metadata": {},
   "source": [
    "\n",
    "## Middleware\n",
    "- Это класс\n",
    "- Реализуют некоторые из методов:\n",
    "- "
   ]
  },
  {
   "cell_type": "code",
   "execution_count": null,
   "metadata": {},
   "outputs": [],
   "source": [
    "- ```process_view"
   ]
  },
  {
   "cell_type": "markdown",
   "metadata": {},
   "source": [
    "- "
   ]
  },
  {
   "cell_type": "code",
   "execution_count": null,
   "metadata": {},
   "outputs": [],
   "source": [
    "- ```process_response"
   ]
  },
  {
   "cell_type": "markdown",
   "metadata": {},
   "source": [
    "\n",
    "## "
   ]
  },
  {
   "cell_type": "markdown",
   "metadata": {},
   "source": [
    "```process_request"
   ]
  },
  {
   "cell_type": "markdown",
   "metadata": {},
   "source": [
    "```\n",
    "- Обрабатывает HTTP-запрос, возвращает объект HttpRequest"
   ]
  },
  {
   "cell_type": "markdown",
   "metadata": {},
   "source": [
    "\n",
    "## Остальные методы\n",
    "- Обрабатывают поведение views"
   ]
  },
  {
   "cell_type": "markdown",
   "metadata": {},
   "source": [
    "\n",
    "## Как понимать куда уйдет запрос?"
   ]
  },
  {
   "cell_type": "markdown",
   "metadata": {},
   "source": [
    "\n",
    "## Как понимать куда уйдет запрос?\n",
    "- Url dispatcher или "
   ]
  },
  {
   "cell_type": "markdown",
   "metadata": {},
   "source": [
    "```UrlConf"
   ]
  },
  {
   "cell_type": "markdown",
   "metadata": {},
   "source": [
    "```"
   ]
  },
  {
   "cell_type": "markdown",
   "metadata": {},
   "source": [
    "\n",
    "## UrlConf\n"
   ]
  },
  {
   "cell_type": "code",
   "execution_count": null,
   "metadata": {},
   "outputs": [],
   "source": [
    "from django.urls import path\n",
    "\n",
    "from . import views\n",
    "\n",
    "urlpatterns = [\n",
    "    path('articles/2003/', views.special_case_2003),\n",
    "    path('articles/<int:year>/', views.year_archive),\n",
    "    path('articles/<int:year>/<int:month>/', views.month_archive),\n",
    "    path('articles/<int:year>/<int:month>/<slug:slug>/', views.article_detail),\n",
    "]"
   ]
  },
  {
   "cell_type": "markdown",
   "metadata": {},
   "source": [
    "\n",
    "## "
   ]
  },
  {
   "cell_type": "code",
   "execution_count": null,
   "metadata": {},
   "outputs": [],
   "source": [
    "- Список аргументов ```process_view(request, view_function, view_args, view_kwargs)"
   ]
  },
  {
   "cell_type": "markdown",
   "metadata": {},
   "source": [
    "\n",
    "## Middleware\n",
    "- Если возвращает "
   ]
  },
  {
   "cell_type": "markdown",
   "metadata": {},
   "source": [
    "```None"
   ]
  },
  {
   "cell_type": "markdown",
   "metadata": {},
   "source": [
    "``` - вызов следующей\n",
    "- Если возращает "
   ]
  },
  {
   "cell_type": "markdown",
   "metadata": {},
   "source": [
    "```HttpResponse"
   ]
  },
  {
   "cell_type": "markdown",
   "metadata": {},
   "source": [
    "``` завершаются"
   ]
  },
  {
   "cell_type": "markdown",
   "metadata": {},
   "source": [
    "\n",
    "## Views\n"
   ]
  },
  {
   "cell_type": "code",
   "execution_count": null,
   "metadata": {},
   "outputs": [],
   "source": [
    "from django.http import HttpResponse\n",
    "import datetime\n",
    "\n",
    "def current_datetime(request):\n",
    "    now = datetime.datetime.now()\n",
    "    html = \"<html><body>It is now %s.</body></html>\" % now\n",
    "    return HttpResponse(html)"
   ]
  },
  {
   "cell_type": "markdown",
   "metadata": {},
   "source": [
    "\n",
    "## Http\n"
   ]
  },
  {
   "cell_type": "code",
   "execution_count": null,
   "metadata": {},
   "outputs": [],
   "source": [
    "import django.http"
   ]
  },
  {
   "cell_type": "markdown",
   "metadata": {},
   "source": [
    "\n",
    "## Http\n",
    "- А что если у нас есть html-документ?"
   ]
  },
  {
   "cell_type": "markdown",
   "metadata": {},
   "source": [
    "\n",
    "## TemplateResponse\n"
   ]
  },
  {
   "cell_type": "code",
   "execution_count": null,
   "metadata": {},
   "outputs": [],
   "source": [
    "from django.template.response import TemplateResponse\n",
    "\n",
    "def blog_index(request):\n",
    "    return TemplateResponse(request, 'entry_list.html', {'entries': Entry.objects.all()})"
   ]
  },
  {
   "cell_type": "markdown",
   "metadata": {},
   "source": [
    "\n",
    "## TemplateResponse\n",
    "- Перед тем как возращается instance объекта, происходит рендеринг"
   ]
  },
  {
   "cell_type": "markdown",
   "metadata": {},
   "source": [
    "\n",
    "## TemplateResponse\n",
    "- Перед тем как возращается instance объекта, происходит рендеринг\n",
    "- Весь контент будет лежать в TemplateResponse.content"
   ]
  },
  {
   "cell_type": "markdown",
   "metadata": {},
   "source": [
    "\n",
    "## Однако\n",
    "- Рендеринг произойдет один раз"
   ]
  },
  {
   "cell_type": "markdown",
   "metadata": {},
   "source": [
    "\n",
    "## Однако\n"
   ]
  },
  {
   "cell_type": "code",
   "execution_count": null,
   "metadata": {},
   "outputs": [],
   "source": [
    ">>> from django.template.response import TemplateResponse\n",
    ">>> t = TemplateResponse(request, 'original.html', {})\n",
    ">>> t.render()\n",
    ">>> print(t.content)\n",
    "Original content\n",
    "\n",
    ">>> t.template_name = 'new.html'\n",
    ">>> t.render()\n",
    ">>> print(t.content)\n",
    "Original content"
   ]
  },
  {
   "cell_type": "markdown",
   "metadata": {},
   "source": [
    "\n",
    "## Как решать?!"
   ]
  },
  {
   "cell_type": "markdown",
   "metadata": {},
   "source": [
    "\n",
    "## Как решать?!\n",
    "- Использовать "
   ]
  },
  {
   "cell_type": "markdown",
   "metadata": {},
   "source": [
    "```django.shortcut"
   ]
  },
  {
   "cell_type": "markdown",
   "metadata": {},
   "source": [
    "```"
   ]
  },
  {
   "cell_type": "markdown",
   "metadata": {},
   "source": [
    "\n",
    "## render()\n"
   ]
  },
  {
   "cell_type": "code",
   "execution_count": null,
   "metadata": {},
   "outputs": [],
   "source": [
    "from django.shortcuts import render\n",
    "\n",
    "def my_view(request):\n",
    "    # View code here...\n",
    "    return render(request, 'myapp/index.html', {\n",
    "        'foo': 'bar',\n",
    "    }, content_type='application/xhtml+xml')"
   ]
  },
  {
   "cell_type": "markdown",
   "metadata": {},
   "source": [
    "\n",
    "## Аналогично\n"
   ]
  },
  {
   "cell_type": "code",
   "execution_count": null,
   "metadata": {},
   "outputs": [],
   "source": [
    "from django.http import HttpResponse\n",
    "from django.template import loader\n",
    "\n",
    "def my_view(request):\n",
    "    # Что-то сделали...\n",
    "    t = loader.get_template('myapp/index.html')\n",
    "    c = {'foo': 'bar'}\n",
    "    return HttpResponse(t.render(c, request), content_type='application/xhtml+xml')"
   ]
  },
  {
   "cell_type": "markdown",
   "metadata": {},
   "source": [
    "\n",
    "## Время практики"
   ]
  }
 ],
 "metadata": {},
 "nbformat": 4,
 "nbformat_minor": 2
}
