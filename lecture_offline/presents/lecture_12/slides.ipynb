{
 "cells": [
  {
   "cell_type": "markdown",
   "metadata": {},
   "source": [
    "#  Основы верстки: HTML/CSS, JS\n"
   ]
  },
  {
   "cell_type": "markdown",
   "metadata": {},
   "source": [
    "\n",
    "## ХТМЛ/ЦСС, ДжиЭс"
   ]
  },
  {
   "cell_type": "markdown",
   "metadata": {},
   "source": [
    "\n",
    "## Что такое веб страница?"
   ]
  },
  {
   "cell_type": "markdown",
   "metadata": {},
   "source": [
    "\n",
    "## Что такое веб страница?\n",
    "Правильно!"
   ]
  },
  {
   "cell_type": "markdown",
   "metadata": {},
   "source": [
    "\n",
    "## Что такое веб страница?\n",
    "Правильно! Это документ с разметкой и стилями..."
   ]
  },
  {
   "cell_type": "markdown",
   "metadata": {},
   "source": [
    "\n",
    "## Что такое веб страница?\n",
    "Правильно! Это документ с разметкой и стилями... и скриптами"
   ]
  },
  {
   "cell_type": "markdown",
   "metadata": {},
   "source": [
    "\n",
    "## Что такое веб страница?\n",
    "Правильно! Это HTML-документ и CSS... и JS"
   ]
  },
  {
   "cell_type": "markdown",
   "metadata": {},
   "source": [
    "\n",
    "## Роли\n",
    "- HTML -- каркас документа\n",
    "- CSS -- оформление  \n",
    "- JS -- поведение (анимашки всякие)"
   ]
  },
  {
   "cell_type": "markdown",
   "metadata": {},
   "source": [
    "\n",
    "## HTML\n",
    "Язык гипертекста"
   ]
  },
  {
   "cell_type": "markdown",
   "metadata": {},
   "source": [
    "\n",
    "## HTML\n",
    "Язык гипертекста -- ???"
   ]
  },
  {
   "cell_type": "markdown",
   "metadata": {},
   "source": [
    "\n",
    "## HTML\n",
    "Язык гипертекста -- текст с ссылочками"
   ]
  },
  {
   "cell_type": "markdown",
   "metadata": {},
   "source": [
    "\n",
    "## HTML\n"
   ]
  },
  {
   "cell_type": "code",
   "execution_count": null,
   "metadata": {},
   "outputs": [],
   "source": [
    "<!DOCTYPE html>\n",
    "\n",
    "<html lang=\"en\">\n",
    "<head>\n",
    "    <meta charset=\"UTF-8\">\n",
    "    <title>Заголовок</title>\n",
    "</head>\n",
    "<body>\n",
    "  <h1>Заголовок</h1>\n",
    "  <!-- Комментарий -->\n",
    "  <p>Первый абзац.</p>\n",
    "  <p>Второй абзац.</p>\n",
    "</body>\n",
    "</html>"
   ]
  },
  {
   "cell_type": "markdown",
   "metadata": {},
   "source": [
    "\n",
    "## DOM\n",
    "- Document Object Model"
   ]
  },
  {
   "cell_type": "markdown",
   "metadata": {},
   "source": [
    "\n",
    "## DOM\n",
    "![dom](./images/dom.gif)"
   ]
  },
  {
   "cell_type": "markdown",
   "metadata": {},
   "source": [
    "\n",
    "## Тэги\n",
    "- "
   ]
  },
  {
   "cell_type": "markdown",
   "metadata": {},
   "source": [
    "```<тег атрибут1=\"значение\" атрибут2=\"значение\">"
   ]
  },
  {
   "cell_type": "code",
   "execution_count": null,
   "metadata": {},
   "outputs": [],
   "source": [
    "- ```<тег атрибут1=\"значение\" атрибут2=\"значение\">...</тег>"
   ]
  },
  {
   "cell_type": "markdown",
   "metadata": {},
   "source": [
    "\n",
    "## Виды тэгов\n",
    "- теги верхнего уровня;\n",
    "- теги заголовка документа;\n",
    "- блочные элементы;\n",
    "- строчные элементы;\n",
    "- универсальные элементы;\n",
    "- списки;\n",
    "- таблицы;\n",
    "- фреймы."
   ]
  },
  {
   "cell_type": "markdown",
   "metadata": {},
   "source": [
    "\n",
    "\n",
    "## Атрибут style\n",
    "- У каждого тэга есть такой атрибут"
   ]
  },
  {
   "cell_type": "markdown",
   "metadata": {},
   "source": [
    "\n",
    "\n",
    "## Атрибут style\n",
    "- У каждого тэга есть такой атрибут\n",
    "- Позволяет задавать оформление (цвет текста, фон, размер шрифта и т.д.)"
   ]
  },
  {
   "cell_type": "markdown",
   "metadata": {},
   "source": [
    "\n",
    "## Атрибут style\n"
   ]
  },
  {
   "cell_type": "code",
   "execution_count": null,
   "metadata": {},
   "outputs": [],
   "source": [
    "<p style=\"font-size: 24px;\">\n",
    "  Здесь написан всякий текст <span style=\"font-weight: bold\">жирный</span>, например.\n",
    "  Или <span style=\"color: orange; background-color: green;\">\n",
    "    оранжевый с зеленым фоном\n",
    "  </span>,\n",
    "  или <span style=\"color: violet;text-decoration: underline;\">\n",
    "    Фиолетовый с нижним подчеркиванием\n",
    "  </span>.\n",
    "</p>"
   ]
  },
  {
   "cell_type": "markdown",
   "metadata": {},
   "source": [
    "\n",
    "## CSS\n",
    "- Cascading Style Sheets"
   ]
  },
  {
   "cell_type": "markdown",
   "metadata": {},
   "source": [
    "\n",
    "## CSS\n",
    "- набор параметров форматирования"
   ]
  },
  {
   "cell_type": "markdown",
   "metadata": {},
   "source": [
    "\n",
    "## Преимущества\n",
    "- Разграничение кода и оформления\n",
    "- Разное оформление для разных устройств\n",
    "- Расширенные по сравнению с HTML способы оформления элементов\n",
    "- Ускорение загрузки сайта\n",
    "- Единое стилевое оформление множества документов\n",
    "- Централизованное хранение"
   ]
  },
  {
   "cell_type": "markdown",
   "metadata": {},
   "source": [
    "\n",
    "## Базовое понятие CSS\n",
    "- Селектор — это некоторое имя стиля, для которого добавляются параметры форматирования"
   ]
  },
  {
   "cell_type": "markdown",
   "metadata": {},
   "source": [
    "\n",
    "## Базовое понятие CSS\n",
    "- Селектор — это некоторое имя стиля, для которого добавляются параметры форматирования\n",
    "- В качестве селектора выступают теги, классы и идентификаторы."
   ]
  },
  {
   "cell_type": "markdown",
   "metadata": {},
   "source": [
    "\n",
    "## Синтаксис селекторов\n",
    "![syntax](./images/syntax-selectors.png)"
   ]
  },
  {
   "cell_type": "markdown",
   "metadata": {},
   "source": [
    "\n",
    "## Виды селекторов\n",
    "- Селекторы тегов\n",
    "- Классы\n",
    "- Идентификаторы\n",
    "- Контекстные селекторы\n",
    "- Соседние селекторы\n",
    "- Дочерние селекторы\n",
    "- Селекторы атрибутов\n",
    "- Универсальный селектор"
   ]
  },
  {
   "cell_type": "markdown",
   "metadata": {},
   "source": [
    "\n",
    "## Селекторы тегов\n",
    "- Определяются для всех типов селекторов\n",
    "\n"
   ]
  },
  {
   "cell_type": "code",
   "execution_count": null,
   "metadata": {},
   "outputs": [],
   "source": [
    "Тег { свойство1: значение; свойство2: значение; ... }"
   ]
  },
  {
   "cell_type": "markdown",
   "metadata": {},
   "source": [
    "\n",
    "## Классы\n",
    "- Опеределяются у всех тэгов, у которых опеределен атрибут class с таким именем\n"
   ]
  },
  {
   "cell_type": "code",
   "execution_count": null,
   "metadata": {},
   "outputs": [],
   "source": [
    ".Имя класса { свойство1: значение; свойство2: значение; ... }"
   ]
  },
  {
   "cell_type": "markdown",
   "metadata": {},
   "source": [
    "\n",
    "## Классный пример\n"
   ]
  },
  {
   "cell_type": "code",
   "execution_count": null,
   "metadata": {},
   "outputs": [],
   "source": [
    ".red-with-bold { color: red; font-weight: bold;}"
   ]
  },
  {
   "cell_type": "code",
   "execution_count": null,
   "metadata": {},
   "outputs": [],
   "source": [
    "<p class=\"red-with-bold\"> Какой-то странный текст </p>"
   ]
  },
  {
   "cell_type": "markdown",
   "metadata": {},
   "source": [
    "\n",
    "## Идентификаторы\n",
    "- Похожи на класс, но определяют уникальное имя элемента\n",
    "\n"
   ]
  },
  {
   "cell_type": "code",
   "execution_count": null,
   "metadata": {},
   "outputs": [],
   "source": [
    "#Имя идентификатора { свойство1: значение; свойство2: значение; ... }"
   ]
  },
  {
   "cell_type": "markdown",
   "metadata": {},
   "source": [
    "\n",
    "## Пример\n"
   ]
  },
  {
   "cell_type": "code",
   "execution_count": null,
   "metadata": {},
   "outputs": [],
   "source": [
    "#unique-element {font-size: 50px}"
   ]
  },
  {
   "cell_type": "code",
   "execution_count": null,
   "metadata": {},
   "outputs": [],
   "source": [
    "<p>\n",
    "  Очередной набор текста типо с\n",
    "<span id='unique-element'> уникальным </span> элементом.\n",
    "</p>"
   ]
  },
  {
   "cell_type": "markdown",
   "metadata": {},
   "source": [
    "\n",
    "## Пример\n",
    "- Недопустимо! только один тег может быть с таким id\n"
   ]
  },
  {
   "cell_type": "code",
   "execution_count": null,
   "metadata": {},
   "outputs": [],
   "source": [
    "<p id='unique-element'>\n",
    "  Очередной набор текста типо с\n",
    "<span id='unique-element'> уникальным </span> элементом.\n",
    "</p>"
   ]
  },
  {
   "cell_type": "markdown",
   "metadata": {},
   "source": [
    "\n",
    "## Контестные селекторы\n",
    "- Определяет стиль элемента в контесте другого\n"
   ]
  },
  {
   "cell_type": "code",
   "execution_count": null,
   "metadata": {},
   "outputs": [],
   "source": [
    "<Тег1>\n",
    " <Тег2> ... </Тег2>\n",
    "</Тег1>"
   ]
  },
  {
   "cell_type": "code",
   "execution_count": null,
   "metadata": {},
   "outputs": [],
   "source": [
    "Тег1 Тег2 { ... }"
   ]
  },
  {
   "cell_type": "markdown",
   "metadata": {},
   "source": [
    "\n",
    "## Соседние селекторы\n",
    "- Только для элементов, которые следуют друг за другом\n",
    "\n"
   ]
  },
  {
   "cell_type": "code",
   "execution_count": null,
   "metadata": {},
   "outputs": [],
   "source": [
    "Селектор 1 + Селектор 2 { Описание правил стиля }"
   ]
  },
  {
   "cell_type": "markdown",
   "metadata": {},
   "source": [
    "\n",
    "## Соседние селекторы и пример\n"
   ]
  },
  {
   "cell_type": "code",
   "execution_count": null,
   "metadata": {},
   "outputs": [],
   "source": [
    "<p>Lorem <b>ipsum </b> dolor sit amet, <i>consectetuer</i> adipiscing elit.</p>\n",
    "<p>Lorem ipsum dolor sit amet, <i>consectetuer</i> adipiscing elit.</p>"
   ]
  },
  {
   "cell_type": "markdown",
   "metadata": {},
   "source": [
    "\n",
    "## Соседние селекторы и пример\n",
    "- Какие из них соседи?"
   ]
  },
  {
   "cell_type": "markdown",
   "metadata": {},
   "source": [
    "\n",
    "## Соседние селекторы и пример\n"
   ]
  },
  {
   "cell_type": "code",
   "execution_count": null,
   "metadata": {},
   "outputs": [],
   "source": [
    "b + i {color: red}"
   ]
  },
  {
   "cell_type": "markdown",
   "metadata": {},
   "source": [
    "\n",
    "## Дочерние селекторы\n",
    "- Элемент, который непосредственно располагается внутри родительского элемента\n",
    "\n"
   ]
  },
  {
   "cell_type": "code",
   "execution_count": null,
   "metadata": {},
   "outputs": [],
   "source": [
    "Селектор 1 > Селектор 2 { Описание правил стиля }"
   ]
  },
  {
   "cell_type": "markdown",
   "metadata": {},
   "source": [
    "\n",
    "## Дочерние и контекстые\n",
    "- Дочерний селектор - прямым потомком\n",
    "- Контестный селектор - может быть на любом уровне вложенности"
   ]
  },
  {
   "cell_type": "markdown",
   "metadata": {},
   "source": [
    "\n",
    "## Универсальный селектор\n",
    "- Применяется для всех элементов сразу\n"
   ]
  },
  {
   "cell_type": "code",
   "execution_count": null,
   "metadata": {},
   "outputs": [],
   "source": [
    "* { Описание правил стиля }"
   ]
  },
  {
   "cell_type": "markdown",
   "metadata": {},
   "source": [
    "\n",
    "## Наследование стилей\n",
    "- Для дочерних элементов -- перенос правил от родителя к дочерним"
   ]
  },
  {
   "cell_type": "markdown",
   "metadata": {},
   "source": [
    "\n",
    "## Группировка\n",
    "- Можно группировать селекторы по стилям"
   ]
  },
  {
   "cell_type": "markdown",
   "metadata": {},
   "source": [
    "\n",
    "## Было\n"
   ]
  },
  {
   "cell_type": "code",
   "execution_count": null,
   "metadata": {},
   "outputs": [],
   "source": [
    "h1 {\n",
    "  font-size: 12px;\n",
    "  color: red;\n",
    "}\n",
    "h2 {\n",
    "  font-size: 12px;\n",
    "  color: black;\n",
    "  text-decoration: underline;\n",
    "}\n",
    "h3 {\n",
    "  font-size: 12px;\n",
    "  color: green;\n",
    "  text-decoration: underline;\n",
    "  letter-spacing: 2px;\n",
    "}"
   ]
  },
  {
   "cell_type": "markdown",
   "metadata": {},
   "source": [
    "\n",
    "## Стало\n"
   ]
  },
  {
   "cell_type": "code",
   "execution_count": null,
   "metadata": {},
   "outputs": [],
   "source": [
    "h1, h2, h3 {\n",
    "  font-size: 12px;\n",
    "}\n",
    "h2, h3 {\n",
    "  text-decoration: underline;\n",
    "}\n",
    "h1 {\n",
    "  color: red;\n",
    "}\n",
    "h2 {\n",
    "  color: black;\n",
    "}\n",
    "h3 {\n",
    "  color: green;\n",
    "  letter-spacing: 2px;\n",
    "}"
   ]
  },
  {
   "cell_type": "markdown",
   "metadata": {},
   "source": [
    "\n",
    "## Каскадность\n",
    "- Каскадность  -- правила перекрытия"
   ]
  },
  {
   "cell_type": "markdown",
   "metadata": {},
   "source": [
    "\n",
    "## Каскадность\n",
    "- Стиль браузера.\n",
    "- Стиль автора.\n",
    "- Стиль пользователя.\n",
    "- Стиль автора с добавлением !important.\n",
    "- Стиль пользователя с добавлением !important."
   ]
  },
  {
   "cell_type": "markdown",
   "metadata": {},
   "source": [
    "\n",
    "## Пример\n"
   ]
  },
  {
   "cell_type": "code",
   "execution_count": null,
   "metadata": {},
   "outputs": [],
   "source": [
    "<div id=\"menu\">\n",
    " <ul>\n",
    "  <li>Первый</li>\n",
    "  <li class=\"two\">Второй</li>\n",
    "  <li>Третий</li>\n",
    " </ul>\n",
    "</div>"
   ]
  },
  {
   "cell_type": "markdown",
   "metadata": {},
   "source": [
    "\n",
    "## И стили\n"
   ]
  },
  {
   "cell_type": "code",
   "execution_count": null,
   "metadata": {},
   "outputs": [],
   "source": [
    "#menu ul li {\n",
    " color: green;\n",
    "}\n",
    ".two {\n",
    " color: red;\n",
    "}"
   ]
  },
  {
   "cell_type": "markdown",
   "metadata": {},
   "source": [
    "\n",
    "## Правило специфичности\n",
    "- a -- количество id в селекторе\n",
    "- b -- количество классов и псевдоклассов\n",
    "- с -- количество селекторов тэга"
   ]
  },
  {
   "cell_type": "markdown",
   "metadata": {},
   "source": [
    "\n",
    "## Суммарная специфичность\n"
   ]
  },
  {
   "cell_type": "code",
   "execution_count": null,
   "metadata": {},
   "outputs": [],
   "source": [
    "100a + 10b + 1c"
   ]
  },
  {
   "cell_type": "markdown",
   "metadata": {},
   "source": [
    "\n",
    "\n",
    "## Разберем пример\n"
   ]
  },
  {
   "cell_type": "code",
   "execution_count": null,
   "metadata": {},
   "outputs": [],
   "source": [
    "*              {} /* a=0 b=0 c=0 -> специфичность = 0   */\n",
    "li             {} /* a=0 b=0 c=1 -> специфичность = 1   */\n",
    "li:first-line  {} /* a=0 b=0 c=2 -> специфичность = 2   */\n",
    "ul li          {} /* a=0 b=0 c=2 -> специфичность = 2   */\n",
    "ul ol+li       {} /* a=0 b=0 c=3 -> специфичность = 3   */\n",
    "ul li.red      {} /* a=0 b=1 c=2 -> специфичность = 12  */\n",
    "li.red.level   {} /* a=0 b=2 c=1 -> специфичность = 21  */\n",
    "#t34           {} /* a=1 b=0 c=0 -> специфичность = 100 */\n",
    "#content #wrap {} /* a=2 b=0 c=0 -> специфичность = 200 */"
   ]
  },
  {
   "cell_type": "markdown",
   "metadata": {},
   "source": [
    "\n",
    "\n",
    "## CSS-фреймворки\n",
    "Упрощают жизнь"
   ]
  },
  {
   "cell_type": "markdown",
   "metadata": {},
   "source": [
    "\n",
    "## Плюсы\n",
    "- Кроссбраузерность\n",
    "- Возможность создать корректный HTML макет даже не очень опытному специалисту\n",
    "- Единообразие кода\n",
    "- Увеличение скорости разработки"
   ]
  },
  {
   "cell_type": "markdown",
   "metadata": {},
   "source": [
    "\n",
    "## Минусы\n",
    "- Привязанность к стилю CSS библиотеки\n",
    "- Избыточный код"
   ]
  },
  {
   "cell_type": "markdown",
   "metadata": {},
   "source": [
    "\n",
    "## Типы\n",
    "- Простые css-фреймворки;\n",
    "- Web-components;\n",
    "- Css-сетки;\n",
    "- Комплексные css-фреймворки."
   ]
  },
  {
   "cell_type": "markdown",
   "metadata": {},
   "source": [
    "\n",
    "## Популярные\n",
    "- Bootstrap\n",
    "- Foundation\n",
    "- Semantic UI"
   ]
  },
  {
   "cell_type": "markdown",
   "metadata": {},
   "source": [
    "\n",
    "## Konec"
   ]
  }
 ],
 "metadata": {},
 "nbformat": 4,
 "nbformat_minor": 2
}
