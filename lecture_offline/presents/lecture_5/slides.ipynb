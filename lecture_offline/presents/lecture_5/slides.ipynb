{
 "cells": [
  {
   "cell_type": "markdown",
   "metadata": {},
   "source": [
    "# ООП\n"
   ]
  },
  {
   "cell_type": "markdown",
   "metadata": {},
   "source": [
    "\n",
    "## ООП"
   ]
  },
  {
   "cell_type": "markdown",
   "metadata": {},
   "source": [
    "\n",
    "## ООП\n",
    "- парадигма программирования, в которой основными концепциями являются понятия\n",
    "объектов и классов."
   ]
  },
  {
   "cell_type": "markdown",
   "metadata": {},
   "source": [
    "\n",
    "## Задача\n",
    "Я сделал задачу, хочу скинуть ссылку Егору в телеграмме."
   ]
  },
  {
   "cell_type": "markdown",
   "metadata": {},
   "source": [
    "\n",
    "## Решение\n",
    "![Шаг 1](./images/schema1.png)"
   ]
  },
  {
   "cell_type": "markdown",
   "metadata": {},
   "source": [
    "\n",
    "## Решение\n",
    "![Шаг 2](./images/schema2.png)"
   ]
  },
  {
   "cell_type": "markdown",
   "metadata": {},
   "source": [
    "\n",
    "## Решение\n",
    "![Шаг 3](./images/schema3.png)"
   ]
  },
  {
   "cell_type": "markdown",
   "metadata": {},
   "source": [
    "\n",
    "## Решение\n",
    "![Шаг 4](./images/schema4.png)"
   ]
  },
  {
   "cell_type": "markdown",
   "metadata": {},
   "source": [
    "\n",
    "## Решение\n",
    "![Шаг 5](./images/schema5.png)"
   ]
  },
  {
   "cell_type": "markdown",
   "metadata": {},
   "source": [
    "\n",
    "## Решение\n",
    "![Шаг 6](./images/schema6.png)"
   ]
  },
  {
   "cell_type": "markdown",
   "metadata": {},
   "source": [
    "\n",
    "## Решение\n"
   ]
  },
  {
   "cell_type": "code",
   "execution_count": null,
   "metadata": {},
   "outputs": [],
   "source": [
    "class Sender:\n",
    "  ...\n",
    "\n",
    "class User:\n",
    "  ...\n",
    "\n",
    "\n",
    "def send_message_to_user(message):\n",
    "    message.user.send_status_of_message(\n",
    "        message,\n",
    "        by_sender = Sender(),\n",
    "    )"
   ]
  },
  {
   "cell_type": "markdown",
   "metadata": {},
   "source": [
    "\n",
    "\n",
    "## Классы и объекты"
   ]
  },
  {
   "cell_type": "markdown",
   "metadata": {},
   "source": [
    "\n",
    "\n",
    "## Классы и объекты\n",
    "- *класс* - модель сущности\n",
    "- *объект* - конкретная сущность заданного класса"
   ]
  },
  {
   "cell_type": "markdown",
   "metadata": {},
   "source": [
    "\n",
    "\n",
    "\n",
    "## Классы и объекты\n",
    "- *класс* - модель сущности\n",
    "\n"
   ]
  },
  {
   "cell_type": "code",
   "execution_count": null,
   "metadata": {},
   "outputs": [],
   "source": [
    "class User:\n",
    "    email = emailField()\n",
    "    login = string(50)"
   ]
  },
  {
   "cell_type": "markdown",
   "metadata": {},
   "source": [
    "\n",
    "\n",
    "## Классы и объекты\n",
    "- *объект* - конкретная сущность заданного класса\n",
    "\n"
   ]
  },
  {
   "cell_type": "code",
   "execution_count": null,
   "metadata": {},
   "outputs": [],
   "source": [
    "User(email='python_master3000@mail.ru', login='pythonmaster')\n",
    "\n",
    "User(email='jsIsCool@rambler.ru', login='jsNinja')"
   ]
  },
  {
   "cell_type": "markdown",
   "metadata": {},
   "source": [
    "\n",
    "\n",
    "## Другими словами\n",
    "- *класс* - чертеж\n",
    "- *объект* - конкретный объект по чертежу"
   ]
  },
  {
   "cell_type": "markdown",
   "metadata": {},
   "source": [
    "\n",
    "\n",
    "## Создаем класс\n"
   ]
  },
  {
   "cell_type": "code",
   "execution_count": null,
   "metadata": {},
   "outputs": [],
   "source": [
    "class Counter:\n",
    "\n",
    "    def __init__(self, initial=0):\n",
    "        self.value = initial\n",
    "\n",
    "    def increment(self):\n",
    "        self.value += 1\n",
    "\n",
    "    def get(self):\n",
    "      return self.value"
   ]
  },
  {
   "cell_type": "markdown",
   "metadata": {},
   "source": [
    "\n",
    "\n",
    "\n",
    "## Создаем объект класса\n"
   ]
  },
  {
   "cell_type": "code",
   "execution_count": null,
   "metadata": {},
   "outputs": [],
   "source": [
    "с = Counter(5)\n",
    "c.increment()\n",
    "c.get()"
   ]
  },
  {
   "cell_type": "markdown",
   "metadata": {},
   "source": [
    "\n",
    "\n",
    "## Что, куда и как?"
   ]
  },
  {
   "cell_type": "markdown",
   "metadata": {},
   "source": [
    "\n",
    "\n",
    "## Создаем класс\n"
   ]
  },
  {
   "cell_type": "code",
   "execution_count": null,
   "metadata": {},
   "outputs": [],
   "source": [
    "class Counter:\n",
    "\n",
    "    def __init__(self, initial=0): # Сначала срабатывает инициализация\n",
    "        self.value = initial       # запись атрибута\n",
    "\n",
    "    def increment(self):\n",
    "        self.value += 1\n",
    "\n",
    "    def get(self):\n",
    "      return self.value            # чтение атрибута"
   ]
  },
  {
   "cell_type": "markdown",
   "metadata": {},
   "source": [
    "\n",
    "\n",
    "## "
   ]
  },
  {
   "cell_type": "markdown",
   "metadata": {},
   "source": [
    "```__init__"
   ]
  },
  {
   "cell_type": "markdown",
   "metadata": {},
   "source": [
    "``` - не констуктор"
   ]
  },
  {
   "cell_type": "markdown",
   "metadata": {},
   "source": [
    "\n",
    "\n",
    "## "
   ]
  },
  {
   "cell_type": "markdown",
   "metadata": {},
   "source": [
    "```__new__"
   ]
  },
  {
   "cell_type": "markdown",
   "metadata": {},
   "source": [
    "``` vs "
   ]
  },
  {
   "cell_type": "markdown",
   "metadata": {},
   "source": [
    "```__init__"
   ]
  },
  {
   "cell_type": "markdown",
   "metadata": {},
   "source": [
    "```\n",
    "- "
   ]
  },
  {
   "cell_type": "markdown",
   "metadata": {},
   "source": [
    "```__new__"
   ]
  },
  {
   "cell_type": "markdown",
   "metadata": {},
   "source": [
    "``` создает пустой экземпляр класса\n",
    "- "
   ]
  },
  {
   "cell_type": "markdown",
   "metadata": {},
   "source": [
    "```__init__"
   ]
  },
  {
   "cell_type": "markdown",
   "metadata": {},
   "source": [
    "``` инициализирует его"
   ]
  },
  {
   "cell_type": "markdown",
   "metadata": {},
   "source": [
    "\n",
    "\n",
    "## "
   ]
  },
  {
   "cell_type": "markdown",
   "metadata": {},
   "source": [
    "```__new__"
   ]
  },
  {
   "cell_type": "markdown",
   "metadata": {},
   "source": [
    "``` vs "
   ]
  },
  {
   "cell_type": "code",
   "execution_count": null,
   "metadata": {},
   "outputs": [],
   "source": [
    "```python\n",
    "class Noop:\n",
    "    def __new__(cls, *args, **kwargs):\n",
    "        print(\"Creating instance with {} and {}\"\n",
    "              .format(args, kwargs))\n",
    "        instance = super().__new__(cls) # self\n",
    "        return instance\n",
    "\n",
    "    def __init__(self, *args, **kwargs):\n",
    "        print(\"Initializing with {} and {}\"\n",
    "              .format(args, kwargs))\n",
    "\n",
    "noop = Noop(42, attr=\"value\")\n",
    "# Creating instance with (42,) and {'attr': 'value'}\n",
    "# Initializing with (42,) and {'attr': 'value'}"
   ]
  },
  {
   "cell_type": "markdown",
   "metadata": {},
   "source": [
    "\n",
    "\n",
    "## Ключевое слово "
   ]
  },
  {
   "cell_type": "markdown",
   "metadata": {},
   "source": [
    "```self"
   ]
  },
  {
   "cell_type": "markdown",
   "metadata": {},
   "source": [
    "```\n",
    "\n",
    "В отличие от Java или C++ в Python нет магического слово \"this\".\n",
    "\n",
    "Первый аргумент любого метода экземпляра - слово \"self\""
   ]
  },
  {
   "cell_type": "markdown",
   "metadata": {},
   "source": [
    "\n",
    "\n",
    "## Ключевое слово "
   ]
  },
  {
   "cell_type": "code",
   "execution_count": null,
   "metadata": {},
   "outputs": [],
   "source": [
    "Добавляем к экземпляру класса атрибут\n",
    "```python\n",
    "self.some_attribute = value"
   ]
  },
  {
   "cell_type": "markdown",
   "metadata": {},
   "source": [
    "\n",
    "\n",
    "## Ключевое слово "
   ]
  },
  {
   "cell_type": "code",
   "execution_count": null,
   "metadata": {},
   "outputs": [],
   "source": [
    "```python\n",
    "class A:\n",
    "\n",
    "    def __init__(self, value):\n",
    "      self.value = value\n",
    "\n",
    "a = A(5)\n",
    "\n",
    "a.value # 5\n",
    "\n",
    "A.value # AttributeError: type object 'A' has no attribute 'value'"
   ]
  },
  {
   "cell_type": "markdown",
   "metadata": {},
   "source": [
    "\n",
    "\n",
    "## Ключевое слово "
   ]
  },
  {
   "cell_type": "code",
   "execution_count": null,
   "metadata": {},
   "outputs": [],
   "source": [
    "```python\n",
    "A(5).value # ???"
   ]
  },
  {
   "cell_type": "markdown",
   "metadata": {},
   "source": [
    "\n",
    "\n",
    "\n",
    "## Ключевое слово "
   ]
  },
  {
   "cell_type": "code",
   "execution_count": null,
   "metadata": {},
   "outputs": [],
   "source": [
    "```python\n",
    "A(5).value # 5"
   ]
  },
  {
   "cell_type": "markdown",
   "metadata": {},
   "source": [
    "\n",
    "\n",
    "## Атрибуты класса и экземпляра"
   ]
  },
  {
   "cell_type": "markdown",
   "metadata": {},
   "source": [
    "\n",
    "\n",
    "## Атрибуты класса и экземпляра\n"
   ]
  },
  {
   "cell_type": "code",
   "execution_count": null,
   "metadata": {},
   "outputs": [],
   "source": [
    "class Counter:\n",
    "    all_counters = []\n",
    "\n",
    "    def __init__(self, initial=0):\n",
    "        Counter.all_counters.append(self)\n",
    "        #..."
   ]
  },
  {
   "cell_type": "markdown",
   "metadata": {},
   "source": [
    "\n",
    "\n",
    "## Атрибуты класса и экземпляра\n"
   ]
  },
  {
   "cell_type": "code",
   "execution_count": null,
   "metadata": {},
   "outputs": [],
   "source": [
    "Counter.all_counters # []\n",
    "\n",
    "a = Counter()\n",
    "b = Counter(5)\n",
    "\n",
    "Counter.all_counters # ???"
   ]
  },
  {
   "cell_type": "markdown",
   "metadata": {},
   "source": [
    "\n",
    "\n",
    "## Атрибуты класса и экземпляра\n"
   ]
  },
  {
   "cell_type": "code",
   "execution_count": null,
   "metadata": {},
   "outputs": [],
   "source": [
    "Counter.all_counters # []\n",
    "\n",
    "a = Counter()\n",
    "b = Counter(5)\n",
    "\n",
    "Counter.all_counters\n",
    "# [<__main__.Counter object at ...>, <__main__.Counter object at ...>]"
   ]
  },
  {
   "cell_type": "markdown",
   "metadata": {},
   "source": [
    "\n",
    "\n",
    "## Атрибуты класса и экземпляра\n",
    "Можно задавать атрибуты классов прямым присваиванием\n"
   ]
  },
  {
   "cell_type": "code",
   "execution_count": null,
   "metadata": {},
   "outputs": [],
   "source": [
    "Counter.some_attribute = 'Hey!'\n",
    "\n",
    "Counter.some_attribute # 'Hey!'"
   ]
  },
  {
   "cell_type": "markdown",
   "metadata": {},
   "source": [
    "\n",
    "\n",
    "## Соглашение об именовании атрибутов\n",
    "В Python нет модификаторов классов"
   ]
  },
  {
   "cell_type": "markdown",
   "metadata": {},
   "source": [
    "\n",
    "\n",
    "## Соглашение об именовании атрибутов\n",
    "В Python нет модификаторов классов\n",
    "\n",
    "Но есть договоренность"
   ]
  },
  {
   "cell_type": "markdown",
   "metadata": {},
   "source": [
    "\n",
    "\n",
    "\n",
    "## Соглашение об именовании атрибутов\n",
    "В Python нет модификаторов классов\n",
    "\n",
    "Но есть договоренность, чисто по-братски"
   ]
  },
  {
   "cell_type": "markdown",
   "metadata": {},
   "source": [
    "\n",
    "\n",
    "\n",
    "## Соглашение об именовании атрибутов\n"
   ]
  },
  {
   "cell_type": "code",
   "execution_count": null,
   "metadata": {},
   "outputs": [],
   "source": [
    "class Noop:\n",
    "    public_attribute = 42\n",
    "    _private_attribute = [1, 2 ,3]\n",
    "\n",
    "Noop.public_attribute # 42\n",
    "\n",
    "Noop._private_attribute # ???"
   ]
  },
  {
   "cell_type": "markdown",
   "metadata": {},
   "source": [
    "\n",
    "\n",
    "\n",
    "## Соглашение об именовании атрибутов\n"
   ]
  },
  {
   "cell_type": "code",
   "execution_count": null,
   "metadata": {},
   "outputs": [],
   "source": [
    "class Noop:\n",
    "    public_attribute = 42\n",
    "    _private_attribute = [1, 2, 3]\n",
    "\n",
    "Noop.public_attribute # 42\n",
    "\n",
    "Noop._private_attribute # [1, 2, 3]"
   ]
  },
  {
   "cell_type": "markdown",
   "metadata": {},
   "source": [
    "\n",
    "\n",
    "## Для особо ярых защитников атрибутов\n"
   ]
  },
  {
   "cell_type": "code",
   "execution_count": null,
   "metadata": {},
   "outputs": [],
   "source": [
    "class Noop:\n",
    "    __very_private_attribute = (1,)"
   ]
  },
  {
   "cell_type": "markdown",
   "metadata": {},
   "source": [
    "\n",
    "\n",
    "## Для особо ярых защитников атрибутов\n"
   ]
  },
  {
   "cell_type": "code",
   "execution_count": null,
   "metadata": {},
   "outputs": [],
   "source": [
    "class Noop:\n",
    "    __very_private_attribute = (1,)\n",
    "\n",
    "Noop.__very_private_attribute\n",
    "# AttributeError: type object 'Noop' has no attribute [...]"
   ]
  },
  {
   "cell_type": "markdown",
   "metadata": {},
   "source": [
    "\n",
    "\n",
    "## Внутренние атрибуты классов и экземпляров\n"
   ]
  },
  {
   "cell_type": "code",
   "execution_count": null,
   "metadata": {},
   "outputs": [],
   "source": [
    "class Noob:\n",
    "    \"\"\"I'm empty class\"\"\""
   ]
  },
  {
   "cell_type": "markdown",
   "metadata": {},
   "source": [
    "\n",
    "\n",
    "\n",
    "## Внутренние атрибуты классов и экземпляров\n"
   ]
  },
  {
   "cell_type": "code",
   "execution_count": null,
   "metadata": {},
   "outputs": [],
   "source": [
    "Noob.__doc__\n",
    "# \"I'm empty class\"\n",
    "Noob.__name__\n",
    "# 'Noob'\n",
    "Noob.__module__\n",
    "# '__main__'\n",
    "Noob.__dict__\n",
    "# Тут описаны все внутренние метода и атрибуты класса"
   ]
  },
  {
   "cell_type": "markdown",
   "metadata": {},
   "source": [
    "\n",
    "\n",
    "\n",
    "## Внутренние атрибуты классов и экземпляров\n"
   ]
  },
  {
   "cell_type": "code",
   "execution_count": null,
   "metadata": {},
   "outputs": [],
   "source": [
    "noo = Noob()\n",
    "\n",
    "noo.__dict__\n",
    "# Тут описаны все внутренние метода и атрибуты экземпляра"
   ]
  },
  {
   "cell_type": "markdown",
   "metadata": {},
   "source": [
    "\n",
    "\n",
    "## Наследование\n"
   ]
  },
  {
   "cell_type": "code",
   "execution_count": null,
   "metadata": {},
   "outputs": [],
   "source": [
    "class Counter:\n",
    "    def __init__(self, initial=0):\n",
    "        self.value = initial\n",
    "\n",
    "class OtherCounter(Counter):\n",
    "    def get(self):\n",
    "        return self.value"
   ]
  },
  {
   "cell_type": "markdown",
   "metadata": {},
   "source": [
    "\n",
    "\n",
    "## Наследование\n"
   ]
  },
  {
   "cell_type": "code",
   "execution_count": null,
   "metadata": {},
   "outputs": [],
   "source": [
    "c = OtherCounter()\n",
    "\n",
    "c.get() # 0\n",
    "\n",
    "c.value ## KeyError"
   ]
  },
  {
   "cell_type": "markdown",
   "metadata": {},
   "source": [
    "\n",
    "\n",
    "## Наследование\n",
    "Поиск имени атрибута или метода происходит в "
   ]
  },
  {
   "cell_type": "markdown",
   "metadata": {},
   "source": [
    "```__dict__"
   ]
  },
  {
   "cell_type": "markdown",
   "metadata": {},
   "source": [
    "``` экземпляра. Если\n",
    "нет таких имен, то ищет в классе, а затем рекурсивно по наследникам."
   ]
  },
  {
   "cell_type": "markdown",
   "metadata": {},
   "source": [
    "\n",
    "\n",
    "## Перегрузка методов\n"
   ]
  },
  {
   "cell_type": "code",
   "execution_count": null,
   "metadata": {},
   "outputs": [],
   "source": [
    "class Counter:\n",
    "    def __init__(self, initial=0):\n",
    "        self.__class__.all_counters.append(self)\n",
    "        self.value = initial\n",
    "\n",
    "class OtherCounter(Counter):\n",
    "    def __init__(self, initial=0):\n",
    "        self.initial = initial\n",
    "        super().__init__(initial)"
   ]
  },
  {
   "cell_type": "markdown",
   "metadata": {},
   "source": [
    "\n",
    "\n",
    "## Перегрузка методов\n"
   ]
  },
  {
   "cell_type": "code",
   "execution_count": null,
   "metadata": {},
   "outputs": [],
   "source": [
    "c = OtherCounter() # сначала __init__ у себя, затем __init__ у родителя"
   ]
  },
  {
   "cell_type": "markdown",
   "metadata": {},
   "source": [
    "\n",
    "\n",
    "## Множественное наследование\n"
   ]
  },
  {
   "cell_type": "code",
   "execution_count": null,
   "metadata": {},
   "outputs": [],
   "source": [
    "class A:\n",
    "    def f(self):\n",
    "        print('A.f')\n",
    "\n",
    "class B:\n",
    "    def f(self):\n",
    "        print('B.f')\n",
    "\n",
    "class C(A,B):\n",
    "    pass"
   ]
  },
  {
   "cell_type": "markdown",
   "metadata": {},
   "source": [
    "\n",
    "\n",
    "## Множественное наследование\n"
   ]
  },
  {
   "cell_type": "code",
   "execution_count": null,
   "metadata": {},
   "outputs": [],
   "source": [
    "C().f() # ???"
   ]
  },
  {
   "cell_type": "markdown",
   "metadata": {},
   "source": [
    "\n",
    "\n",
    "## Алгоритм С3\n",
    "В случае множественного наследования Python использует алгоритм лианеризации C3\n",
    "для определения метода, который нужно вызывать"
   ]
  },
  {
   "cell_type": "markdown",
   "metadata": {},
   "source": [
    "\n",
    "\n",
    "## Алгоритм С3\n",
    "Используем функцию классов "
   ]
  },
  {
   "cell_type": "markdown",
   "metadata": {},
   "source": [
    "```mro()"
   ]
  },
  {
   "cell_type": "markdown",
   "metadata": {},
   "source": [
    "``` - Method Resolution Order\n"
   ]
  },
  {
   "cell_type": "code",
   "execution_count": null,
   "metadata": {},
   "outputs": [],
   "source": [
    "C.mro()\n",
    "# [<class '__main__.C'>, <class '__main__.A'>,\n",
    "# <class '__main__.B'>, <class 'object'>]"
   ]
  },
  {
   "cell_type": "markdown",
   "metadata": {},
   "source": [
    "\n",
    "\n",
    "\n",
    "## Множественное наследование\n"
   ]
  },
  {
   "cell_type": "code",
   "execution_count": null,
   "metadata": {},
   "outputs": [],
   "source": [
    "C().f() # ???"
   ]
  },
  {
   "cell_type": "markdown",
   "metadata": {},
   "source": [
    "\n",
    "\n",
    "\n",
    "## Множественное наследование\n"
   ]
  },
  {
   "cell_type": "code",
   "execution_count": null,
   "metadata": {},
   "outputs": [],
   "source": [
    "C().f() # 'A.f'"
   ]
  },
  {
   "cell_type": "markdown",
   "metadata": {},
   "source": [
    "\n",
    "\n",
    "## Магические методы"
   ]
  },
  {
   "cell_type": "markdown",
   "metadata": {},
   "source": [
    "\n",
    "\n",
    "## Магические методы\n",
    "\"Магическими\" методами называются внутренние методы классов, например, "
   ]
  },
  {
   "cell_type": "markdown",
   "metadata": {},
   "source": [
    "```__init__"
   ]
  },
  {
   "cell_type": "markdown",
   "metadata": {},
   "source": [
    "```."
   ]
  },
  {
   "cell_type": "markdown",
   "metadata": {},
   "source": [
    "\n",
    "\n",
    "## Магические методы\n",
    "С помощью магических методов можно:\n",
    "\n",
    "- управлять к доступам атрибутов классов"
   ]
  },
  {
   "cell_type": "markdown",
   "metadata": {},
   "source": [
    "\n",
    "\n",
    "\n",
    "## Магические методы\n",
    "С помощью магических методов можно:\n",
    "\n",
    "- управлять к доступам атрибутов классов\n",
    "- перегружать операторы, например, сравнения или арифметические операторы"
   ]
  },
  {
   "cell_type": "markdown",
   "metadata": {},
   "source": [
    "\n",
    "\n",
    "\n",
    "## Магические методы\n",
    "С помощью магических методов можно:\n",
    "\n",
    "- управлять к доступам атрибутов классов\n",
    "- перегружать операторы, например, сравнения или арифметические операторы\n",
    "- определить строковое представление экземпляра или метод его хэширования"
   ]
  },
  {
   "cell_type": "markdown",
   "metadata": {},
   "source": [
    "\n",
    "\n",
    "## Методы "
   ]
  },
  {
   "cell_type": "markdown",
   "metadata": {},
   "source": [
    "```__str__"
   ]
  },
  {
   "cell_type": "markdown",
   "metadata": {},
   "source": [
    "``` и "
   ]
  },
  {
   "cell_type": "code",
   "execution_count": null,
   "metadata": {},
   "outputs": [],
   "source": [
    "```python\n",
    "class Counter:\n",
    "    def __init__(self, initial=0):\n",
    "        self.value = initial\n",
    "\n",
    "    def __repr__(self):\n",
    "        return 'Счетчик({})'.format(self.value)\n",
    "\n",
    "    def __str__(self):\n",
    "        return 'Привет! Я Счетчик'"
   ]
  },
  {
   "cell_type": "markdown",
   "metadata": {},
   "source": [
    "\n",
    "\n",
    "## Методы "
   ]
  },
  {
   "cell_type": "markdown",
   "metadata": {},
   "source": [
    "```__str"
   ]
  },
  {
   "cell_type": "markdown",
   "metadata": {},
   "source": [
    "``` и "
   ]
  },
  {
   "cell_type": "code",
   "execution_count": null,
   "metadata": {},
   "outputs": [],
   "source": [
    "```python\n",
    "c = Counter(42)\n",
    "\n",
    "c # 'Счетчик(42)'\n",
    "\n",
    "print(c) # 'Привет! Я Счетчик'"
   ]
  },
  {
   "cell_type": "markdown",
   "metadata": {},
   "source": [
    "\n",
    "\n",
    "## Метод "
   ]
  },
  {
   "cell_type": "code",
   "execution_count": null,
   "metadata": {},
   "outputs": [],
   "source": [
    "```python\n",
    "class Counter:\n",
    "    def __init__(self, initial=0):\n",
    "        self.value = initial\n",
    "\n",
    "    def __bool__(self):\n",
    "        return bool(self.value)\n",
    "\n",
    "c = Counter()\n",
    "\n",
    "if not c:\n",
    "    print('No counts yet')"
   ]
  },
  {
   "cell_type": "markdown",
   "metadata": {},
   "source": [
    "\n",
    "\n",
    "## Методы сравнения\n"
   ]
  },
  {
   "cell_type": "code",
   "execution_count": null,
   "metadata": {},
   "outputs": [],
   "source": [
    "instance.__eq__(other) # instance == other\n",
    "instance.__ne__(other) # instance != other\n",
    "instance.__lt__(other) # instance < other\n",
    "instance.__le__(other) # instance <= other\n",
    "instance.__gt__(other) # instance > other\n",
    "instance.__ge__(other) # instance >= other"
   ]
  },
  {
   "cell_type": "markdown",
   "metadata": {},
   "source": [
    "\n",
    "\n",
    "## Метод "
   ]
  },
  {
   "cell_type": "code",
   "execution_count": null,
   "metadata": {},
   "outputs": [],
   "source": [
    "```python\n",
    "class LikeFunction:\n",
    "    def __init__(self, value):\n",
    "        self.value = value\n",
    "\n",
    "    def __call__(self):\n",
    "        return self.value\n",
    "\n",
    "func = LikeFunction(5)\n",
    "\n",
    "func() # 5"
   ]
  },
  {
   "cell_type": "markdown",
   "metadata": {},
   "source": [
    "\n",
    "\n",
    "## Все о магических методах\n",
    "[Магия тут](https://docs.python.org/3/reference/datamodel.html#special-method-names)"
   ]
  }
 ],
 "metadata": {},
 "nbformat": 4,
 "nbformat_minor": 2
}
