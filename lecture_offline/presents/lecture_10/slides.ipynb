{
 "cells": [
  {
   "cell_type": "markdown",
   "metadata": {},
   "source": [
    "# Django ORM\n"
   ]
  },
  {
   "cell_type": "markdown",
   "metadata": {},
   "source": [
    "\n",
    "## Django ORM и модели"
   ]
  },
  {
   "cell_type": "markdown",
   "metadata": {},
   "source": [
    "\n",
    "## Что такое ORM?\n",
    "![orm](./images/orm.png)"
   ]
  },
  {
   "cell_type": "markdown",
   "metadata": {},
   "source": [
    "\n",
    "## Что такое ORM?\n",
    "- ORM - Object-relational mapping"
   ]
  },
  {
   "cell_type": "markdown",
   "metadata": {},
   "source": [
    "\n",
    "## Что такое ORM?\n",
    "- ORM - Объектно-реляционное отображение"
   ]
  },
  {
   "cell_type": "markdown",
   "metadata": {},
   "source": [
    "\n",
    "## Что такое ORM?\n",
    "- ORM - технология программирования, которая связывает базы данных с концепциями\n",
    "объектно-ориентированных языков программирования."
   ]
  },
  {
   "cell_type": "markdown",
   "metadata": {},
   "source": [
    "\n",
    "## Что такое ORM?\n",
    "- ORM - прослойка между базой данных и кодом который пишет программист,\n",
    "которая позволяет созданые в программе объекты складывать/получать в/из бд."
   ]
  },
  {
   "cell_type": "markdown",
   "metadata": {},
   "source": [
    "\n",
    "## Парадигма «несоответствия»\n",
    "- Объектные и реляционные модели не очень хорошо работают вместе."
   ]
  },
  {
   "cell_type": "markdown",
   "metadata": {},
   "source": [
    "\n",
    "## Принцип работы ORM\n",
    "- Ключевой особенностью ORM является отображение,\n",
    "которое используется для привязки объекта к его данным в БД."
   ]
  },
  {
   "cell_type": "markdown",
   "metadata": {},
   "source": [
    "\n",
    "## Принцип работы ORM\n",
    "- ORM как бы создает «виртуальную» схему базы данных в памяти и\n",
    "позволяет манипулировать данными уже на уровне объектов."
   ]
  },
  {
   "cell_type": "markdown",
   "metadata": {},
   "source": [
    "\n",
    "## Преимущества ORM\n",
    "- нет необходимости в написании SQL"
   ]
  },
  {
   "cell_type": "markdown",
   "metadata": {},
   "source": [
    "\n",
    "## Преимущества ORM\n",
    "- нет необходимости в написании SQL (в идеале)"
   ]
  },
  {
   "cell_type": "markdown",
   "metadata": {},
   "source": [
    "\n",
    "## Преимущества ORM\n",
    "- нет необходимости в написании SQL (в идеале)\n",
    "- генерируемый код ORM оптимизирован"
   ]
  },
  {
   "cell_type": "markdown",
   "metadata": {},
   "source": [
    "\n",
    "\n",
    "## Преимущества ORM\n",
    "- нет необходимости в написании SQL (в идеале)\n",
    "- генерируемый код ORM оптимизирован"
   ]
  },
  {
   "cell_type": "markdown",
   "metadata": {},
   "source": [
    "\n",
    "\n",
    "## Преимущества ORM\n",
    "- нет необходимости в написании SQL (в идеале)\n",
    "- генерируемый код ORM оптимизирован\n",
    "- быстрое написание запросов"
   ]
  },
  {
   "cell_type": "markdown",
   "metadata": {},
   "source": [
    "\n",
    "## НО!\n",
    "- ORM - не серебрянная пуля"
   ]
  },
  {
   "cell_type": "markdown",
   "metadata": {},
   "source": [
    "\n",
    "## Недостатки ORM\n",
    "- потеря производительности"
   ]
  },
  {
   "cell_type": "markdown",
   "metadata": {},
   "source": [
    "\n",
    "## ORM или не-ORM?"
   ]
  },
  {
   "cell_type": "markdown",
   "metadata": {},
   "source": [
    "\n",
    "## ORM или не-ORM?\n",
    "- все зависит от задачи =)"
   ]
  },
  {
   "cell_type": "markdown",
   "metadata": {},
   "source": [
    "\n",
    "## Модели\n",
    "- отображают информацию о данных\n",
    "- содержат поля\n",
    "- поведение данных"
   ]
  },
  {
   "cell_type": "markdown",
   "metadata": {},
   "source": [
    "\n",
    "\n",
    "## Модели\n",
    "- каждая модель это класс унаследованный от "
   ]
  },
  {
   "cell_type": "markdown",
   "metadata": {},
   "source": [
    "```django.db.models.Model."
   ]
  },
  {
   "cell_type": "markdown",
   "metadata": {},
   "source": [
    "```"
   ]
  },
  {
   "cell_type": "markdown",
   "metadata": {},
   "source": [
    "\n",
    "\n",
    "## Модели\n",
    "- каждая модель это класс унаследованный от "
   ]
  },
  {
   "cell_type": "markdown",
   "metadata": {},
   "source": [
    "```django.db.models.Model."
   ]
  },
  {
   "cell_type": "markdown",
   "metadata": {},
   "source": [
    "```\n",
    "- атрибут модели представляет поле в базе данных."
   ]
  },
  {
   "cell_type": "markdown",
   "metadata": {},
   "source": [
    "\n",
    "\n",
    "## Модели\n",
    "- каждая модель это класс унаследованный от "
   ]
  },
  {
   "cell_type": "markdown",
   "metadata": {},
   "source": [
    "```django.db.models.Model."
   ]
  },
  {
   "cell_type": "markdown",
   "metadata": {},
   "source": [
    "```\n",
    "- атрибут модели представляет поле в базе данных.\n",
    "- Django предоставляет автоматически созданное API для доступа к данным."
   ]
  },
  {
   "cell_type": "markdown",
   "metadata": {},
   "source": [
    "\n",
    "## Пример из документации\n"
   ]
  },
  {
   "cell_type": "code",
   "execution_count": null,
   "metadata": {},
   "outputs": [],
   "source": [
    "from django.db import models\n",
    "\n",
    "class Person(models.Model):\n",
    "    first_name = models.CharField(max_length=30)\n",
    "    last_name = models.CharField(max_length=30)"
   ]
  },
  {
   "cell_type": "markdown",
   "metadata": {},
   "source": [
    "\n",
    "## Пример из документации\n"
   ]
  },
  {
   "cell_type": "code",
   "execution_count": null,
   "metadata": {},
   "outputs": [],
   "source": [
    "CREATE TABLE myapp_person (\n",
    "    \"id\" serial NOT NULL PRIMARY KEY,\n",
    "    \"first_name\" varchar(30) NOT NULL,\n",
    "    \"last_name\" varchar(30) NOT NULL\n",
    ");"
   ]
  },
  {
   "cell_type": "markdown",
   "metadata": {},
   "source": [
    "\n",
    "## Содержание модели\n",
    "- поля"
   ]
  },
  {
   "cell_type": "markdown",
   "metadata": {},
   "source": [
    "\n",
    "## Содержание модели\n",
    "- поля\n",
    "- методы модели"
   ]
  },
  {
   "cell_type": "markdown",
   "metadata": {},
   "source": [
    "\n",
    "## Содержание модели\n",
    "- поля\n",
    "- методы модели\n",
    "- метаданные\n",
    "- менеджеры модели"
   ]
  },
  {
   "cell_type": "markdown",
   "metadata": {},
   "source": [
    "\n",
    "## Содержание модели\n",
    "- поля\n",
    "- методы модели\n",
    "- метаданные"
   ]
  },
  {
   "cell_type": "markdown",
   "metadata": {},
   "source": [
    "\n",
    "## Содержание модели\n",
    "- поля (атрибуты класса)\n",
    "- методы модели (методы экземпляра)\n",
    "- метаданные\n",
    "- менеджеры модели (методы класса)"
   ]
  },
  {
   "cell_type": "markdown",
   "metadata": {},
   "source": [
    "\n",
    "## Связь моделей\n",
    "- OneToOne\n",
    "- OneToMany\n",
    "- ManyToMany"
   ]
  },
  {
   "cell_type": "markdown",
   "metadata": {},
   "source": [
    "\n",
    "## Наследование моделей\n",
    "- абстрактная модель"
   ]
  },
  {
   "cell_type": "markdown",
   "metadata": {},
   "source": [
    "\n",
    "## Наследование моделей\n",
    "- абстрактная модель\n",
    "- Multi-table наследование"
   ]
  },
  {
   "cell_type": "markdown",
   "metadata": {},
   "source": [
    "\n",
    "## Наследование моделей\n",
    "- Абстрактная модель\n",
    "- Multi-table наследование\n",
    "- Proxy-модели"
   ]
  },
  {
   "cell_type": "markdown",
   "metadata": {},
   "source": [
    "\n",
    "## Миграции\n",
    "Миграции - перенос изменений из модели на структуру БД"
   ]
  },
  {
   "cell_type": "markdown",
   "metadata": {},
   "source": [
    "\n",
    "## Миграции\n",
    "Миграции - система контроля версий для БД"
   ]
  },
  {
   "cell_type": "markdown",
   "metadata": {},
   "source": [
    "\n",
    "\n",
    "## Команды\n",
    "- "
   ]
  },
  {
   "cell_type": "markdown",
   "metadata": {},
   "source": [
    "```makemigration"
   ]
  },
  {
   "cell_type": "markdown",
   "metadata": {},
   "source": [
    "```"
   ]
  },
  {
   "cell_type": "markdown",
   "metadata": {},
   "source": [
    "\n",
    "## Команды\n",
    "- "
   ]
  },
  {
   "cell_type": "code",
   "execution_count": null,
   "metadata": {},
   "outputs": [],
   "source": [
    "- ```migrate"
   ]
  },
  {
   "cell_type": "markdown",
   "metadata": {},
   "source": [
    "\n",
    "## Команды\n",
    "- "
   ]
  },
  {
   "cell_type": "code",
   "execution_count": null,
   "metadata": {},
   "outputs": [],
   "source": [
    "- ```migrate"
   ]
  },
  {
   "cell_type": "markdown",
   "metadata": {},
   "source": [
    "- "
   ]
  },
  {
   "cell_type": "markdown",
   "metadata": {},
   "source": [
    "```sqlmigration"
   ]
  },
  {
   "cell_type": "markdown",
   "metadata": {},
   "source": [
    "```"
   ]
  },
  {
   "cell_type": "markdown",
   "metadata": {},
   "source": [
    "\n",
    "## Запросы\n",
    "Результаты выборки объектов из БД - "
   ]
  },
  {
   "cell_type": "markdown",
   "metadata": {},
   "source": [
    "```QuerySet"
   ]
  },
  {
   "cell_type": "markdown",
   "metadata": {},
   "source": [
    "```"
   ]
  },
  {
   "cell_type": "markdown",
   "metadata": {},
   "source": [
    "\n",
    "## QuerySet\n",
    "В терминах SQL, "
   ]
  },
  {
   "cell_type": "markdown",
   "metadata": {},
   "source": [
    "```QuerySet"
   ]
  },
  {
   "cell_type": "markdown",
   "metadata": {},
   "source": [
    "``` - это оператор SELECT,\n",
    "а фильтры - условия такие, как WHERE или LIMIT."
   ]
  },
  {
   "cell_type": "markdown",
   "metadata": {},
   "source": [
    "\n",
    "## Важно\n",
    "- QuerySet получается в результате использования Manager'a\n",
    "- Отфильтрованный QuerySet – уникален\n",
    "- QuerySets – ленивы"
   ]
  },
  {
   "cell_type": "markdown",
   "metadata": {},
   "source": [
    "\n",
    "\n",
    "## Практикуем"
   ]
  }
 ],
 "metadata": {},
 "nbformat": 4,
 "nbformat_minor": 2
}
