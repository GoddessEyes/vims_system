{
 "cells": [
  {
   "cell_type": "markdown",
   "metadata": {},
   "source": [
    "# Основы баз данных\n"
   ]
  },
  {
   "cell_type": "markdown",
   "metadata": {},
   "source": [
    "\n",
    "## Основы баз данных"
   ]
  },
  {
   "cell_type": "markdown",
   "metadata": {},
   "source": [
    "\n",
    "## История развития баз данных\n",
    "![История](./images/history.jpg)"
   ]
  },
  {
   "cell_type": "markdown",
   "metadata": {},
   "source": [
    "\n",
    "\n",
    "## Классификация БД по организации модели\n",
    "- реляционные\n",
    "- NoSQL\n",
    "- Графовые"
   ]
  },
  {
   "cell_type": "markdown",
   "metadata": {},
   "source": [
    "\n",
    "\n",
    "## NoSQL\n",
    "Под лэйблом [NoSQL](http://nosql-database.org/) сейчас скрывается множество разнородных систем"
   ]
  },
  {
   "cell_type": "markdown",
   "metadata": {},
   "source": [
    "\n",
    "\n",
    "## NoSQL\n",
    "- Не используется SQL\n",
    "- Неструктурированные (schemaless)\n",
    "- Представление данных в виде агрегатов (aggregates)\n",
    "- NoSQL базы в основном оупенсорсные"
   ]
  },
  {
   "cell_type": "markdown",
   "metadata": {},
   "source": [
    "\n",
    "\n",
    "## NoSQL\n",
    "![NoSQL](./images/nosql-databases.gif)"
   ]
  },
  {
   "cell_type": "markdown",
   "metadata": {},
   "source": [
    "\n",
    "\n",
    "## Графовые базы данных\n",
    "- Отсутствие единой схемы всех элементов\n",
    "- Можно хранить и реляционные, и документарные данные\n",
    "- Модель может меняться без изменения архитектуры"
   ]
  },
  {
   "cell_type": "markdown",
   "metadata": {},
   "source": [
    "\n",
    "\n",
    "## Графовые базы данных\n",
    "![graph](./images/graphDB.png)."
   ]
  },
  {
   "cell_type": "markdown",
   "metadata": {},
   "source": [
    "\n",
    "\n",
    "## Особенности РБД\n",
    "- Отображает информацию в наиболее простой для пользователя форме\n",
    "- Основана на развитом математическом аппарате\n",
    "- Манипулирование данными на уровне выходной БД и возможность изменения."
   ]
  },
  {
   "cell_type": "markdown",
   "metadata": {},
   "source": [
    "\n",
    "\n",
    "## Реляционные\n",
    "![SQL](./images/sql.png)"
   ]
  },
  {
   "cell_type": "markdown",
   "metadata": {},
   "source": [
    "\n",
    "\n",
    "## Отличие реляционных БД от всех\n",
    "- Требуют наличия однозначно определённой структуры хранения данных\n",
    "- Вне зависимости от лицензии, РСУБД реализуют SQL-стандарты\n",
    "- Масштабируемость\n",
    "- Надежны\n",
    "- Хорошая поддержка\n",
    "- Предполагают работу с сложными ситуациями"
   ]
  },
  {
   "cell_type": "markdown",
   "metadata": {},
   "source": [
    "\n",
    "\n",
    "## Вопросы"
   ]
  },
  {
   "cell_type": "markdown",
   "metadata": {},
   "source": [
    "\n",
    "\n",
    "## Примитивы баз данных\n",
    "![структура](./images/structure.jpg)"
   ]
  },
  {
   "cell_type": "markdown",
   "metadata": {},
   "source": [
    "\n",
    "\n",
    "## Знакомство с SQL"
   ]
  },
  {
   "cell_type": "markdown",
   "metadata": {},
   "source": [
    "\n",
    "\n",
    "## История развития\n",
    "| Год  | Название | Изменения |\n",
    "| ---- | -------- | --------- |\n",
    "| 1986  | SQL-86  | Первый вариант стандарта   |\n",
    "| 1989  | SQL-89  |  Немного доработанный вариант предыдущего стандарта.  |\n",
    "| 1992  | SQL-92  |  Значительные изменения (ISO 9075)  |\n",
    "| 1999  | SQL:1999  |  Добавлена поддержка регулярных выражений, рекурсивных запросов, поддержка триггеров, базовые процедурные расширения, нескалярные типы данных и некоторые объектно-ориентированные возможности.  |\n",
    "| 2003  | SQL:2003  |  Введены расширения для работы с XML-данными, оконные функции (применяемые для работы с OLAP-базами данных), генераторы последовательностей и основанные на них типы данных.  |\n",
    "| 2006  | SQL:2006  |  Функциональность работы с XML-данными значительно расширена. Появилась возможность совместно использовать в запросах SQL и XQuery.  |\n",
    "| 2008  | SQL:2008  |  Улучшены возможности оконных функций, устранены некоторые неоднозначности стандарта SQL:2003[5]|"
   ]
  },
  {
   "cell_type": "markdown",
   "metadata": {},
   "source": [
    "\n",
    "\n",
    "## Операторы SQL\n",
    "- операторы определения данных (Data Definition Language, DDL)\n",
    "- операторы манипуляции данными (Data Manipulation Language, DML)\n",
    "- операторы определения доступа к данным (Data Control Language, DCL)\n",
    "- операторы управления транзакциями (Transaction Control Language, TCL)"
   ]
  },
  {
   "cell_type": "markdown",
   "metadata": {},
   "source": [
    "\n",
    "\n",
    "## DDL\n",
    "- CREATE\n",
    "- ALTER\n",
    "- DROP"
   ]
  },
  {
   "cell_type": "markdown",
   "metadata": {},
   "source": [
    "\n",
    "\n",
    "## DML\n",
    "- SELECT\n",
    "- INSERT\n",
    "- UPDATE\n",
    "- DELETE"
   ]
  },
  {
   "cell_type": "markdown",
   "metadata": {},
   "source": [
    "\n",
    "\n",
    "## DCL\n",
    "- GRANT\n",
    "- REVOKE\n",
    "- DENY"
   ]
  },
  {
   "cell_type": "markdown",
   "metadata": {},
   "source": [
    "\n",
    "\n",
    "## TCL\n",
    "- COMMIT\n",
    "- ROLLBACK\n",
    "- SAVEPOINT"
   ]
  },
  {
   "cell_type": "markdown",
   "metadata": {},
   "source": [
    "\n",
    "\n",
    "## Типы данных SQL\n",
    "— строковые (CHAR, VARCHAR, BLOB)\n",
    "— с плавающей точкой (FLOAT, DOUBLE, DECIMAL)\n",
    "— целые числа, дата и время (INT, DATE, DATETIME)"
   ]
  },
  {
   "cell_type": "markdown",
   "metadata": {},
   "source": [
    "\n",
    "\n",
    "## Создание таблиц\n"
   ]
  },
  {
   "cell_type": "code",
   "execution_count": null,
   "metadata": {},
   "outputs": [],
   "source": [
    "CREATE TABLE table_name (\n",
    " column_name TYPE column_constraint,\n",
    " table_constraint table_constraint\n",
    ") INHERITS existing_table_name;"
   ]
  },
  {
   "cell_type": "markdown",
   "metadata": {},
   "source": [
    "\n",
    "\n",
    "## Пример\n"
   ]
  },
  {
   "cell_type": "code",
   "execution_count": null,
   "metadata": {},
   "outputs": [],
   "source": [
    "CREATE TABLE account(\n",
    " user_id serial PRIMARY KEY,\n",
    " username VARCHAR (50) UNIQUE NOT NULL,\n",
    " password VARCHAR (50) NOT NULL,\n",
    " email VARCHAR (355) UNIQUE NOT NULL,\n",
    " created_on TIMESTAMP NOT NULL,\n",
    " last_login TIMESTAMP\n",
    ");"
   ]
  },
  {
   "cell_type": "markdown",
   "metadata": {},
   "source": [
    "\n",
    "\n",
    "## Пример\n",
    "![create](./images/CREATE.jpg)"
   ]
  },
  {
   "cell_type": "markdown",
   "metadata": {},
   "source": [
    "\n",
    "\n",
    "## Заполение данными\n"
   ]
  },
  {
   "cell_type": "code",
   "execution_count": null,
   "metadata": {},
   "outputs": [],
   "source": [
    "INSERT INTO table(column1, column2, …)\n",
    "VALUES\n",
    " (value1, value2, …);"
   ]
  },
  {
   "cell_type": "markdown",
   "metadata": {},
   "source": [
    "\n",
    "\n",
    "## Пример\n"
   ]
  },
  {
   "cell_type": "code",
   "execution_count": null,
   "metadata": {},
   "outputs": [],
   "source": [
    "CREATE TABLE link (\n",
    " ID serial PRIMARY KEY,\n",
    " url VARCHAR (255) NOT NULL,\n",
    " name VARCHAR (255) NOT NULL,\n",
    " description VARCHAR (255),\n",
    " rel VARCHAR (50)\n",
    ");"
   ]
  },
  {
   "cell_type": "markdown",
   "metadata": {},
   "source": [
    "\n",
    "\n",
    "## Вставка одной строки\n"
   ]
  },
  {
   "cell_type": "code",
   "execution_count": null,
   "metadata": {},
   "outputs": [],
   "source": [
    "INSERT INTO link (url, name)\n",
    "VALUES\n",
    " ('http://www.postgresqltutorial.com','PostgreSQL Tutorial');"
   ]
  },
  {
   "cell_type": "markdown",
   "metadata": {},
   "source": [
    "\n",
    "\n",
    "## Вставка нескольких строк\n"
   ]
  },
  {
   "cell_type": "code",
   "execution_count": null,
   "metadata": {},
   "outputs": [],
   "source": [
    "INSERT INTO link (url, name)\n",
    "VALUES\n",
    " ('http://www.google.com','Google'),\n",
    " ('http://www.yahoo.com','Yahoo'),\n",
    " ('http://www.bing.com','Bing');"
   ]
  },
  {
   "cell_type": "markdown",
   "metadata": {},
   "source": [
    "\n",
    "\n",
    "## Получение данных\n"
   ]
  },
  {
   "cell_type": "code",
   "execution_count": null,
   "metadata": {},
   "outputs": [],
   "source": [
    "SELECT\n",
    " column_1,\n",
    " column_2,\n",
    " ...\n",
    "FROM\n",
    " table_name;"
   ]
  },
  {
   "cell_type": "markdown",
   "metadata": {},
   "source": [
    "\n",
    "\n",
    "## Пример\n",
    "![customer](./images/customer-table.png)"
   ]
  },
  {
   "cell_type": "markdown",
   "metadata": {},
   "source": [
    "\n",
    "\n",
    "## Пример\n"
   ]
  },
  {
   "cell_type": "code",
   "execution_count": null,
   "metadata": {},
   "outputs": [],
   "source": [
    "SELECT\n",
    " *\n",
    "FROM\n",
    " customer;"
   ]
  },
  {
   "cell_type": "markdown",
   "metadata": {},
   "source": [
    "\n",
    "\n",
    "## Пример\n"
   ]
  },
  {
   "cell_type": "code",
   "execution_count": null,
   "metadata": {},
   "outputs": [],
   "source": [
    "SELECT\n",
    " first_name,\n",
    " last_name,\n",
    " email\n",
    "FROM\n",
    " customer;"
   ]
  },
  {
   "cell_type": "markdown",
   "metadata": {},
   "source": [
    "\n",
    "\n",
    "## Условия в запросах\n"
   ]
  },
  {
   "cell_type": "code",
   "execution_count": null,
   "metadata": {},
   "outputs": [],
   "source": [
    "SELECT column_1, column_2 … column_n\n",
    "FROM table_name\n",
    "WHERE conditions;"
   ]
  },
  {
   "cell_type": "markdown",
   "metadata": {},
   "source": [
    "\n",
    "\n",
    "## Условия в запросах\n",
    "![ex](./images/table-if.png)"
   ]
  },
  {
   "cell_type": "markdown",
   "metadata": {},
   "source": [
    "\n",
    "\n",
    "## Пример 1\n"
   ]
  },
  {
   "cell_type": "code",
   "execution_count": null,
   "metadata": {},
   "outputs": [],
   "source": [
    "SELECT last_name, first_name\n",
    "FROM customer\n",
    "WHERE first_name = 'Jamie';"
   ]
  },
  {
   "cell_type": "markdown",
   "metadata": {},
   "source": [
    "\n",
    "\n",
    "## Пример 2\n"
   ]
  },
  {
   "cell_type": "code",
   "execution_count": null,
   "metadata": {},
   "outputs": [],
   "source": [
    "SELECT last_name, first_name\n",
    "FROM customer\n",
    "WHERE first_name = 'Jamie' AND\n",
    " last_name = 'Rice';"
   ]
  },
  {
   "cell_type": "markdown",
   "metadata": {},
   "source": [
    " "
   ]
  },
  {
   "cell_type": "markdown",
   "metadata": {},
   "source": [
    "\n",
    "\n",
    "## Пример 3\n"
   ]
  },
  {
   "cell_type": "code",
   "execution_count": null,
   "metadata": {},
   "outputs": [],
   "source": [
    "SELECT customer_id,\n",
    " amount,\n",
    " payment_date\n",
    "FROM payment\n",
    "WHERE amount <= 1 OR amount >= 8;"
   ]
  },
  {
   "cell_type": "markdown",
   "metadata": {},
   "source": [
    "\n",
    "\n",
    "## Выполнение подзапросов\n"
   ]
  },
  {
   "cell_type": "code",
   "execution_count": null,
   "metadata": {},
   "outputs": [],
   "source": [
    "value IN (value1,value2,...)"
   ]
  },
  {
   "cell_type": "markdown",
   "metadata": {},
   "source": [
    "\n",
    "\n",
    "## Выполнение подзапросов\n"
   ]
  },
  {
   "cell_type": "code",
   "execution_count": null,
   "metadata": {},
   "outputs": [],
   "source": [
    "value IN (SELECT value FROM tbl_name);"
   ]
  },
  {
   "cell_type": "markdown",
   "metadata": {},
   "source": [
    "\n",
    "\n",
    "## Выполнение подзапросов\n"
   ]
  },
  {
   "cell_type": "code",
   "execution_count": null,
   "metadata": {},
   "outputs": [],
   "source": [
    "SELECT\n",
    " first_name,\n",
    " last_name\n",
    "FROM\n",
    " customer\n",
    "WHERE\n",
    " customer_id IN (\n",
    " SELECT\n",
    " customer_id\n",
    " FROM\n",
    " rental\n",
    " WHERE\n",
    " CAST (return_date AS DATE) = '2005-05-27'\n",
    " );"
   ]
  },
  {
   "cell_type": "markdown",
   "metadata": {},
   "source": [
    "\n",
    "\n",
    "## Обновление данных\n"
   ]
  },
  {
   "cell_type": "code",
   "execution_count": null,
   "metadata": {},
   "outputs": [],
   "source": [
    "UPDATE table\n",
    "SET column1 = value1,\n",
    "    column2 = value2 ,...\n",
    "WHERE\n",
    " condition;"
   ]
  },
  {
   "cell_type": "markdown",
   "metadata": {},
   "source": [
    "\n",
    "\n",
    "## Пример\n"
   ]
  },
  {
   "cell_type": "code",
   "execution_count": null,
   "metadata": {},
   "outputs": [],
   "source": [
    "UPDATE link\n",
    "SET last_update = DEFAULT\n",
    "WHERE\n",
    " last_update IS NULL;"
   ]
  },
  {
   "cell_type": "markdown",
   "metadata": {},
   "source": [
    "\n",
    "## Пример (обновление всех строк)\n"
   ]
  },
  {
   "cell_type": "code",
   "execution_count": null,
   "metadata": {},
   "outputs": [],
   "source": [
    "UPDATE link\n",
    "SET rel = 'nofollow';"
   ]
  },
  {
   "cell_type": "markdown",
   "metadata": {},
   "source": [
    "\n",
    "## Пример (обновление с возвращением)\n"
   ]
  },
  {
   "cell_type": "code",
   "execution_count": null,
   "metadata": {},
   "outputs": [],
   "source": [
    "UPDATE link\n",
    "SET description = 'Learn PostgreSQL fast and easy',\n",
    " rel = 'follow'\n",
    "WHERE\n",
    " ID = 1\n",
    "RETURNING id,\n",
    " description,\n",
    " rel;"
   ]
  },
  {
   "cell_type": "markdown",
   "metadata": {},
   "source": [
    "\n",
    "\n",
    "## Удаление данных\n"
   ]
  },
  {
   "cell_type": "code",
   "execution_count": null,
   "metadata": {},
   "outputs": [],
   "source": [
    "DELETE FROM table\n",
    "WHERE condition"
   ]
  },
  {
   "cell_type": "markdown",
   "metadata": {},
   "source": [
    "\n",
    "\n",
    "## Удаление по условию\n"
   ]
  },
  {
   "cell_type": "code",
   "execution_count": null,
   "metadata": {},
   "outputs": [],
   "source": [
    "DELETE\n",
    "FROM\n",
    " link USING link_tmp\n",
    "WHERE\n",
    " link.id = link_tmp.id;"
   ]
  },
  {
   "cell_type": "markdown",
   "metadata": {},
   "source": [
    "\n",
    "\n",
    "## Удаление всех строк\n"
   ]
  },
  {
   "cell_type": "code",
   "execution_count": null,
   "metadata": {},
   "outputs": [],
   "source": [
    "DELETE\n",
    "FROM\n",
    " link;"
   ]
  },
  {
   "cell_type": "markdown",
   "metadata": {},
   "source": [
    " "
   ]
  },
  {
   "cell_type": "markdown",
   "metadata": {},
   "source": [
    "\n",
    "\n",
    "## Можно так\n"
   ]
  },
  {
   "cell_type": "code",
   "execution_count": null,
   "metadata": {},
   "outputs": [],
   "source": [
    "DELETE\n",
    "FROM\n",
    " link RETURNING *;"
   ]
  },
  {
   "cell_type": "markdown",
   "metadata": {},
   "source": [
    "\n",
    "\n",
    "## Вопросы"
   ]
  }
 ],
 "metadata": {},
 "nbformat": 4,
 "nbformat_minor": 2
}
